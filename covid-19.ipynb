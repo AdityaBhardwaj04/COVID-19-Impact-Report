{
 "cells": [
  {
   "cell_type": "code",
   "execution_count": 1,
   "id": "8ae8592a",
   "metadata": {},
   "outputs": [
    {
     "name": "stdout",
     "output_type": "stream",
     "text": [
      "Requirement already satisfied: numpy in c:\\users\\kiit\\anaconda3\\lib\\site-packages (1.23.5)\n",
      "Requirement already satisfied: pandas in c:\\users\\kiit\\anaconda3\\lib\\site-packages (1.5.3)\n",
      "Requirement already satisfied: matplotlib in c:\\users\\kiit\\anaconda3\\lib\\site-packages (3.7.0)\n",
      "Requirement already satisfied: seaborn in c:\\users\\kiit\\anaconda3\\lib\\site-packages (0.12.2)\n",
      "Requirement already satisfied: plotly in c:\\users\\kiit\\anaconda3\\lib\\site-packages (5.9.0)\n",
      "Requirement already satisfied: pytz>=2020.1 in c:\\users\\kiit\\anaconda3\\lib\\site-packages (from pandas) (2022.7)\n",
      "Requirement already satisfied: python-dateutil>=2.8.1 in c:\\users\\kiit\\anaconda3\\lib\\site-packages (from pandas) (2.8.2)\n",
      "Requirement already satisfied: kiwisolver>=1.0.1 in c:\\users\\kiit\\anaconda3\\lib\\site-packages (from matplotlib) (1.4.4)\n",
      "Requirement already satisfied: pillow>=6.2.0 in c:\\users\\kiit\\anaconda3\\lib\\site-packages (from matplotlib) (10.2.0)\n",
      "Requirement already satisfied: cycler>=0.10 in c:\\users\\kiit\\anaconda3\\lib\\site-packages (from matplotlib) (0.11.0)\n",
      "Requirement already satisfied: packaging>=20.0 in c:\\users\\kiit\\anaconda3\\lib\\site-packages (from matplotlib) (22.0)\n",
      "Requirement already satisfied: fonttools>=4.22.0 in c:\\users\\kiit\\anaconda3\\lib\\site-packages (from matplotlib) (4.25.0)\n",
      "Requirement already satisfied: contourpy>=1.0.1 in c:\\users\\kiit\\anaconda3\\lib\\site-packages (from matplotlib) (1.0.5)\n",
      "Requirement already satisfied: pyparsing>=2.3.1 in c:\\users\\kiit\\anaconda3\\lib\\site-packages (from matplotlib) (3.0.9)\n",
      "Requirement already satisfied: tenacity>=6.2.0 in c:\\users\\kiit\\anaconda3\\lib\\site-packages (from plotly) (8.0.1)\n",
      "Requirement already satisfied: six>=1.5 in c:\\users\\kiit\\anaconda3\\lib\\site-packages (from python-dateutil>=2.8.1->pandas) (1.16.0)\n"
     ]
    }
   ],
   "source": [
    "!pip install numpy pandas matplotlib seaborn plotly"
   ]
  },
  {
   "cell_type": "code",
   "execution_count": 2,
   "id": "f5cc5712",
   "metadata": {
    "ExecuteTime": {
     "end_time": "2024-04-02T17:17:55.033659Z",
     "start_time": "2024-04-02T17:17:54.925298Z"
    }
   },
   "outputs": [],
   "source": [
    "import numpy as np\n",
    "import pandas as pd\n",
    "import matplotlib.pyplot as plt\n",
    "import seaborn as sns"
   ]
  },
  {
   "cell_type": "code",
   "execution_count": 3,
   "id": "3c8401a6",
   "metadata": {
    "ExecuteTime": {
     "end_time": "2024-04-02T17:17:55.036686Z",
     "start_time": "2024-04-02T17:17:55.036686Z"
    }
   },
   "outputs": [],
   "source": [
    "df = pd.read_csv(\"covid_19_clean_complete.csv\")"
   ]
  },
  {
   "cell_type": "code",
   "execution_count": 4,
   "id": "5e3b77fd",
   "metadata": {
    "ExecuteTime": {
     "start_time": "2024-04-02T17:17:55.038276Z"
    }
   },
   "outputs": [],
   "source": [
    "df['Date'] = pd.to_datetime(df['Date'])"
   ]
  },
  {
   "cell_type": "code",
   "execution_count": 5,
   "id": "e8a6ec4a",
   "metadata": {
    "ExecuteTime": {
     "start_time": "2024-04-02T17:17:55.039223Z"
    }
   },
   "outputs": [],
   "source": [
    "df.fillna(0, inplace=True)"
   ]
  },
  {
   "cell_type": "code",
   "execution_count": 6,
   "id": "b02f8c62",
   "metadata": {},
   "outputs": [
    {
     "data": {
      "text/html": [
       "<div>\n",
       "<style scoped>\n",
       "    .dataframe tbody tr th:only-of-type {\n",
       "        vertical-align: middle;\n",
       "    }\n",
       "\n",
       "    .dataframe tbody tr th {\n",
       "        vertical-align: top;\n",
       "    }\n",
       "\n",
       "    .dataframe thead th {\n",
       "        text-align: right;\n",
       "    }\n",
       "</style>\n",
       "<table border=\"1\" class=\"dataframe\">\n",
       "  <thead>\n",
       "    <tr style=\"text-align: right;\">\n",
       "      <th></th>\n",
       "      <th>Province/State</th>\n",
       "      <th>Country/Region</th>\n",
       "      <th>Lat</th>\n",
       "      <th>Long</th>\n",
       "      <th>Date</th>\n",
       "      <th>Confirmed</th>\n",
       "      <th>Deaths</th>\n",
       "      <th>Recovered</th>\n",
       "      <th>Active</th>\n",
       "      <th>WHO Region</th>\n",
       "    </tr>\n",
       "  </thead>\n",
       "  <tbody>\n",
       "    <tr>\n",
       "      <th>0</th>\n",
       "      <td>0</td>\n",
       "      <td>Afghanistan</td>\n",
       "      <td>33.93911</td>\n",
       "      <td>67.709953</td>\n",
       "      <td>2020-01-22</td>\n",
       "      <td>0</td>\n",
       "      <td>0</td>\n",
       "      <td>0</td>\n",
       "      <td>0</td>\n",
       "      <td>Eastern Mediterranean</td>\n",
       "    </tr>\n",
       "    <tr>\n",
       "      <th>1</th>\n",
       "      <td>0</td>\n",
       "      <td>Albania</td>\n",
       "      <td>41.15330</td>\n",
       "      <td>20.168300</td>\n",
       "      <td>2020-01-22</td>\n",
       "      <td>0</td>\n",
       "      <td>0</td>\n",
       "      <td>0</td>\n",
       "      <td>0</td>\n",
       "      <td>Europe</td>\n",
       "    </tr>\n",
       "    <tr>\n",
       "      <th>2</th>\n",
       "      <td>0</td>\n",
       "      <td>Algeria</td>\n",
       "      <td>28.03390</td>\n",
       "      <td>1.659600</td>\n",
       "      <td>2020-01-22</td>\n",
       "      <td>0</td>\n",
       "      <td>0</td>\n",
       "      <td>0</td>\n",
       "      <td>0</td>\n",
       "      <td>Africa</td>\n",
       "    </tr>\n",
       "    <tr>\n",
       "      <th>3</th>\n",
       "      <td>0</td>\n",
       "      <td>Andorra</td>\n",
       "      <td>42.50630</td>\n",
       "      <td>1.521800</td>\n",
       "      <td>2020-01-22</td>\n",
       "      <td>0</td>\n",
       "      <td>0</td>\n",
       "      <td>0</td>\n",
       "      <td>0</td>\n",
       "      <td>Europe</td>\n",
       "    </tr>\n",
       "    <tr>\n",
       "      <th>4</th>\n",
       "      <td>0</td>\n",
       "      <td>Angola</td>\n",
       "      <td>-11.20270</td>\n",
       "      <td>17.873900</td>\n",
       "      <td>2020-01-22</td>\n",
       "      <td>0</td>\n",
       "      <td>0</td>\n",
       "      <td>0</td>\n",
       "      <td>0</td>\n",
       "      <td>Africa</td>\n",
       "    </tr>\n",
       "  </tbody>\n",
       "</table>\n",
       "</div>"
      ],
      "text/plain": [
       "  Province/State Country/Region       Lat       Long       Date  Confirmed  \\\n",
       "0              0    Afghanistan  33.93911  67.709953 2020-01-22          0   \n",
       "1              0        Albania  41.15330  20.168300 2020-01-22          0   \n",
       "2              0        Algeria  28.03390   1.659600 2020-01-22          0   \n",
       "3              0        Andorra  42.50630   1.521800 2020-01-22          0   \n",
       "4              0         Angola -11.20270  17.873900 2020-01-22          0   \n",
       "\n",
       "   Deaths  Recovered  Active             WHO Region  \n",
       "0       0          0       0  Eastern Mediterranean  \n",
       "1       0          0       0                 Europe  \n",
       "2       0          0       0                 Africa  \n",
       "3       0          0       0                 Europe  \n",
       "4       0          0       0                 Africa  "
      ]
     },
     "execution_count": 6,
     "metadata": {},
     "output_type": "execute_result"
    }
   ],
   "source": [
    "df.head()"
   ]
  },
  {
   "cell_type": "code",
   "execution_count": 7,
   "id": "6800461b",
   "metadata": {
    "ExecuteTime": {
     "start_time": "2024-04-02T17:17:55.041992Z"
    }
   },
   "outputs": [
    {
     "data": {
      "text/plain": [
       "(49068, 10)"
      ]
     },
     "execution_count": 7,
     "metadata": {},
     "output_type": "execute_result"
    }
   ],
   "source": [
    "df.shape"
   ]
  },
  {
   "cell_type": "code",
   "execution_count": 8,
   "id": "7a2e7716",
   "metadata": {
    "ExecuteTime": {
     "start_time": "2024-04-02T17:17:55.042987Z"
    }
   },
   "outputs": [
    {
     "name": "stdout",
     "output_type": "stream",
     "text": [
      "<class 'pandas.core.frame.DataFrame'>\n",
      "RangeIndex: 49068 entries, 0 to 49067\n",
      "Data columns (total 10 columns):\n",
      " #   Column          Non-Null Count  Dtype         \n",
      "---  ------          --------------  -----         \n",
      " 0   Province/State  49068 non-null  object        \n",
      " 1   Country/Region  49068 non-null  object        \n",
      " 2   Lat             49068 non-null  float64       \n",
      " 3   Long            49068 non-null  float64       \n",
      " 4   Date            49068 non-null  datetime64[ns]\n",
      " 5   Confirmed       49068 non-null  int64         \n",
      " 6   Deaths          49068 non-null  int64         \n",
      " 7   Recovered       49068 non-null  int64         \n",
      " 8   Active          49068 non-null  int64         \n",
      " 9   WHO Region      49068 non-null  object        \n",
      "dtypes: datetime64[ns](1), float64(2), int64(4), object(3)\n",
      "memory usage: 3.7+ MB\n"
     ]
    }
   ],
   "source": [
    "df.info()"
   ]
  },
  {
   "cell_type": "markdown",
   "id": "599cfc62",
   "metadata": {},
   "source": [
    "# Line chart for daily new cases, deaths, and recoveries over time"
   ]
  },
  {
   "cell_type": "code",
   "execution_count": 9,
   "id": "5990abbc",
   "metadata": {
    "ExecuteTime": {
     "start_time": "2024-04-02T17:17:55.043985Z"
    }
   },
   "outputs": [
    {
     "name": "stderr",
     "output_type": "stream",
     "text": [
      "C:\\Users\\KIIT\\AppData\\Local\\Temp\\ipykernel_22596\\3365686820.py:1: FutureWarning: The default value of numeric_only in DataFrameGroupBy.sum is deprecated. In a future version, numeric_only will default to False. Either specify numeric_only or select only columns which should be valid for the function.\n",
      "  time_series_data = df.groupby('Date').sum()\n"
     ]
    },
    {
     "data": {
      "image/png": "[encoded data removed]",
      "text/plain": [
       "<Figure size 1200x600 with 1 Axes>"
      ]
     },
     "metadata": {},
     "output_type": "display_data"
    }
   ],
   "source": [
    "time_series_data = df.groupby('Date').sum()\n",
    "\n",
    "plt.figure(figsize=(12, 6))\n",
    "plt.plot(time_series_data.index, time_series_data['Confirmed'], label='Total Cases')\n",
    "plt.plot(time_series_data.index, time_series_data['Deaths'], label='Total Deaths')\n",
    "plt.plot(time_series_data.index, time_series_data['Recovered'], label='Total Recovered')\n",
    "plt.xlabel('Date')\n",
    "plt.ylabel('Number of Cases')\n",
    "plt.title('COVID-19 Time Series Analysis')\n",
    "plt.legend()\n",
    "plt.grid(True)\n",
    "plt.savefig('covid_time_series.png')\n",
    "plt.show()"
   ]
  },
  {
   "cell_type": "code",
   "execution_count": 10,
   "id": "e6523ad3",
   "metadata": {
    "ExecuteTime": {
     "start_time": "2024-04-02T17:17:55.044988Z"
    }
   },
   "outputs": [
    {
     "data": {
      "image/png": "[encoded data removed]",
      "text/plain": [
       "<Figure size 1000x600 with 1 Axes>"
      ]
     },
     "metadata": {},
     "output_type": "display_data"
    }
   ],
   "source": [
    "plt.figure(figsize=(10, 6))\n",
    "sns.scatterplot(data=df, x='Long', y='Lat', hue='Confirmed', size='Confirmed', sizes=(10, 200))\n",
    "plt.xlabel('Longitude')\n",
    "plt.ylabel('Latitude')\n",
    "plt.title('COVID-19 Geospatial Map')\n",
    "plt.savefig('covid_geospatial.png')\n",
    "plt.show()"
   ]
  },
  {
   "cell_type": "code",
   "execution_count": 11,
   "id": "20e83317",
   "metadata": {
    "ExecuteTime": {
     "start_time": "2024-04-02T17:17:55.045987Z"
    }
   },
   "outputs": [],
   "source": [
    "df1 = pd.read_csv(\"country_wise_latest.csv\")"
   ]
  },
  {
   "cell_type": "code",
   "execution_count": 12,
   "id": "11c53575",
   "metadata": {
    "ExecuteTime": {
     "start_time": "2024-04-02T17:17:55.046995Z"
    }
   },
   "outputs": [],
   "source": [
    "df1['Date'] = pd.to_datetime(df['Date'])\n",
    "df1.fillna(0, inplace=True)"
   ]
  },
  {
   "cell_type": "code",
   "execution_count": 13,
   "id": "738c7554",
   "metadata": {
    "ExecuteTime": {
     "start_time": "2024-04-02T17:17:55.049538Z"
    },
    "scrolled": false
   },
   "outputs": [
    {
     "data": {
      "text/html": [
       "<div>\n",
       "<style scoped>\n",
       "    .dataframe tbody tr th:only-of-type {\n",
       "        vertical-align: middle;\n",
       "    }\n",
       "\n",
       "    .dataframe tbody tr th {\n",
       "        vertical-align: top;\n",
       "    }\n",
       "\n",
       "    .dataframe thead th {\n",
       "        text-align: right;\n",
       "    }\n",
       "</style>\n",
       "<table border=\"1\" class=\"dataframe\">\n",
       "  <thead>\n",
       "    <tr style=\"text-align: right;\">\n",
       "      <th></th>\n",
       "      <th>Country/Region</th>\n",
       "      <th>Confirmed</th>\n",
       "      <th>Deaths</th>\n",
       "      <th>Recovered</th>\n",
       "      <th>Active</th>\n",
       "      <th>New cases</th>\n",
       "      <th>New deaths</th>\n",
       "      <th>New recovered</th>\n",
       "      <th>Deaths / 100 Cases</th>\n",
       "      <th>Recovered / 100 Cases</th>\n",
       "      <th>Deaths / 100 Recovered</th>\n",
       "      <th>Confirmed last week</th>\n",
       "      <th>1 week change</th>\n",
       "      <th>1 week % increase</th>\n",
       "      <th>WHO Region</th>\n",
       "      <th>Date</th>\n",
       "    </tr>\n",
       "  </thead>\n",
       "  <tbody>\n",
       "    <tr>\n",
       "      <th>0</th>\n",
       "      <td>Afghanistan</td>\n",
       "      <td>36263</td>\n",
       "      <td>1269</td>\n",
       "      <td>25198</td>\n",
       "      <td>9796</td>\n",
       "      <td>106</td>\n",
       "      <td>10</td>\n",
       "      <td>18</td>\n",
       "      <td>3.50</td>\n",
       "      <td>69.49</td>\n",
       "      <td>5.04</td>\n",
       "      <td>35526</td>\n",
       "      <td>737</td>\n",
       "      <td>2.07</td>\n",
       "      <td>Eastern Mediterranean</td>\n",
       "      <td>2020-01-22</td>\n",
       "    </tr>\n",
       "    <tr>\n",
       "      <th>1</th>\n",
       "      <td>Albania</td>\n",
       "      <td>4880</td>\n",
       "      <td>144</td>\n",
       "      <td>2745</td>\n",
       "      <td>1991</td>\n",
       "      <td>117</td>\n",
       "      <td>6</td>\n",
       "      <td>63</td>\n",
       "      <td>2.95</td>\n",
       "      <td>56.25</td>\n",
       "      <td>5.25</td>\n",
       "      <td>4171</td>\n",
       "      <td>709</td>\n",
       "      <td>17.00</td>\n",
       "      <td>Europe</td>\n",
       "      <td>2020-01-22</td>\n",
       "    </tr>\n",
       "    <tr>\n",
       "      <th>2</th>\n",
       "      <td>Algeria</td>\n",
       "      <td>27973</td>\n",
       "      <td>1163</td>\n",
       "      <td>18837</td>\n",
       "      <td>7973</td>\n",
       "      <td>616</td>\n",
       "      <td>8</td>\n",
       "      <td>749</td>\n",
       "      <td>4.16</td>\n",
       "      <td>67.34</td>\n",
       "      <td>6.17</td>\n",
       "      <td>23691</td>\n",
       "      <td>4282</td>\n",
       "      <td>18.07</td>\n",
       "      <td>Africa</td>\n",
       "      <td>2020-01-22</td>\n",
       "    </tr>\n",
       "    <tr>\n",
       "      <th>3</th>\n",
       "      <td>Andorra</td>\n",
       "      <td>907</td>\n",
       "      <td>52</td>\n",
       "      <td>803</td>\n",
       "      <td>52</td>\n",
       "      <td>10</td>\n",
       "      <td>0</td>\n",
       "      <td>0</td>\n",
       "      <td>5.73</td>\n",
       "      <td>88.53</td>\n",
       "      <td>6.48</td>\n",
       "      <td>884</td>\n",
       "      <td>23</td>\n",
       "      <td>2.60</td>\n",
       "      <td>Europe</td>\n",
       "      <td>2020-01-22</td>\n",
       "    </tr>\n",
       "    <tr>\n",
       "      <th>4</th>\n",
       "      <td>Angola</td>\n",
       "      <td>950</td>\n",
       "      <td>41</td>\n",
       "      <td>242</td>\n",
       "      <td>667</td>\n",
       "      <td>18</td>\n",
       "      <td>1</td>\n",
       "      <td>0</td>\n",
       "      <td>4.32</td>\n",
       "      <td>25.47</td>\n",
       "      <td>16.94</td>\n",
       "      <td>749</td>\n",
       "      <td>201</td>\n",
       "      <td>26.84</td>\n",
       "      <td>Africa</td>\n",
       "      <td>2020-01-22</td>\n",
       "    </tr>\n",
       "  </tbody>\n",
       "</table>\n",
       "</div>"
      ],
      "text/plain": [
       "  Country/Region  Confirmed  Deaths  Recovered  Active  New cases  New deaths  \\\n",
       "0    Afghanistan      36263    1269      25198    9796        106          10   \n",
       "1        Albania       4880     144       2745    1991        117           6   \n",
       "2        Algeria      27973    1163      18837    7973        616           8   \n",
       "3        Andorra        907      52        803      52         10           0   \n",
       "4         Angola        950      41        242     667         18           1   \n",
       "\n",
       "   New recovered  Deaths / 100 Cases  Recovered / 100 Cases  \\\n",
       "0             18                3.50                  69.49   \n",
       "1             63                2.95                  56.25   \n",
       "2            749                4.16                  67.34   \n",
       "3              0                5.73                  88.53   \n",
       "4              0                4.32                  25.47   \n",
       "\n",
       "   Deaths / 100 Recovered  Confirmed last week  1 week change  \\\n",
       "0                    5.04                35526            737   \n",
       "1                    5.25                 4171            709   \n",
       "2                    6.17                23691           4282   \n",
       "3                    6.48                  884             23   \n",
       "4                   16.94                  749            201   \n",
       "\n",
       "   1 week % increase             WHO Region       Date  \n",
       "0               2.07  Eastern Mediterranean 2020-01-22  \n",
       "1              17.00                 Europe 2020-01-22  \n",
       "2              18.07                 Africa 2020-01-22  \n",
       "3               2.60                 Europe 2020-01-22  \n",
       "4              26.84                 Africa 2020-01-22  "
      ]
     },
     "execution_count": 13,
     "metadata": {},
     "output_type": "execute_result"
    }
   ],
   "source": [
    "df1.head()"
   ]
  },
  {
   "cell_type": "code",
   "execution_count": 14,
   "id": "cd62abe5",
   "metadata": {
    "scrolled": false
   },
   "outputs": [
    {
     "name": "stdout",
     "output_type": "stream",
     "text": [
      "<class 'pandas.core.frame.DataFrame'>\n",
      "RangeIndex: 187 entries, 0 to 186\n",
      "Data columns (total 16 columns):\n",
      " #   Column                  Non-Null Count  Dtype         \n",
      "---  ------                  --------------  -----         \n",
      " 0   Country/Region          187 non-null    object        \n",
      " 1   Confirmed               187 non-null    int64         \n",
      " 2   Deaths                  187 non-null    int64         \n",
      " 3   Recovered               187 non-null    int64         \n",
      " 4   Active                  187 non-null    int64         \n",
      " 5   New cases               187 non-null    int64         \n",
      " 6   New deaths              187 non-null    int64         \n",
      " 7   New recovered           187 non-null    int64         \n",
      " 8   Deaths / 100 Cases      187 non-null    float64       \n",
      " 9   Recovered / 100 Cases   187 non-null    float64       \n",
      " 10  Deaths / 100 Recovered  187 non-null    float64       \n",
      " 11  Confirmed last week     187 non-null    int64         \n",
      " 12  1 week change           187 non-null    int64         \n",
      " 13  1 week % increase       187 non-null    float64       \n",
      " 14  WHO Region              187 non-null    object        \n",
      " 15  Date                    187 non-null    datetime64[ns]\n",
      "dtypes: datetime64[ns](1), float64(4), int64(9), object(2)\n",
      "memory usage: 23.5+ KB\n"
     ]
    }
   ],
   "source": [
    "df1.info()"
   ]
  },
  {
   "cell_type": "code",
   "execution_count": 15,
   "id": "15861e6e",
   "metadata": {},
   "outputs": [
    {
     "data": {
      "text/plain": [
       "Index(['Country/Region', 'Confirmed', 'Deaths', 'Recovered', 'Active',\n",
       "       'New cases', 'New deaths', 'New recovered', 'Deaths / 100 Cases',\n",
       "       'Recovered / 100 Cases', 'Deaths / 100 Recovered',\n",
       "       'Confirmed last week', '1 week change', '1 week % increase',\n",
       "       'WHO Region', 'Date'],\n",
       "      dtype='object')"
      ]
     },
     "execution_count": 15,
     "metadata": {},
     "output_type": "execute_result"
    }
   ],
   "source": [
    "df1.columns"
   ]
  },
  {
   "cell_type": "markdown",
   "id": "d2790f07",
   "metadata": {},
   "source": [
    "# Top 10 countries that has been given maximum number of covid cases"
   ]
  },
  {
   "cell_type": "code",
   "execution_count": 16,
   "id": "2c0890b3",
   "metadata": {
    "ExecuteTime": {
     "start_time": "2024-04-02T17:17:55.054538Z"
    }
   },
   "outputs": [
    {
     "data": {
      "image/png": "[encoded data removed]",
      "text/plain": [
       "<Figure size 1000x600 with 1 Axes>"
      ]
     },
     "metadata": {},
     "output_type": "display_data"
    }
   ],
   "source": [
    "top_countries_confirmed = df1.groupby('Country/Region')['Confirmed'].max().nlargest(10)\n",
    "colors = ['red', 'lightcoral', 'lightgreen', 'orange', 'pink', 'yellow', 'violet', 'gold', 'lightblue', 'salmon']\n",
    "plt.figure(figsize=(10,6))\n",
    "top_countries_confirmed.plot(kind='bar', color=colors)\n",
    "plt.xlabel('Country/Region')\n",
    "plt.xlabel(\"Country/Region\")\n",
    "plt.ylabel(\"Total Confirmed Cases\")\n",
    "plt.title(\"Top 10 Countries with the Maximum Number of COVID-19 Cases\")\n",
    "plt.xticks(rotation =45)\n",
    "plt.tight_layout()\n",
    "plt.savefig('covid_top_10.png')\n",
    "plt.show()"
   ]
  },
  {
   "cell_type": "markdown",
   "id": "b7eacdc5",
   "metadata": {},
   "source": [
    "# Top 10 Countries with the Maximum Number of COVID-19 Death Cases"
   ]
  },
  {
   "cell_type": "code",
   "execution_count": 17,
   "id": "1bdbc903",
   "metadata": {},
   "outputs": [
    {
     "data": {
      "image/png": "[encoded data removed]",
      "text/plain": [
       "<Figure size 800x800 with 1 Axes>"
      ]
     },
     "metadata": {},
     "output_type": "display_data"
    }
   ],
   "source": [
    "top_countries_death = df1.groupby(\"Country/Region\")[\"Deaths\"].max().nlargest(10)\n",
    "plt.figure(figsize=(8,8))\n",
    "pie_chart = plt.pie(top_countries_death,labels=top_countries_death.index,autopct =\"%0.2f%%\", startangle =140)\n",
    "plt.title(\"Top 10 Countries with the Maximum Number of COVID-19 Death Cases\")\n",
    "plt.axis(\"equal\")\n",
    "plt.savefig('covid_top10_death.png')\n",
    "plt.show()"
   ]
  },
  {
   "cell_type": "code",
   "execution_count": null,
   "id": "ad7067e3",
   "metadata": {
    "ExecuteTime": {
     "start_time": "2024-04-02T17:17:55.057541Z"
    }
   },
   "outputs": [],
   "source": []
  },
  {
   "cell_type": "markdown",
   "id": "5b91af8b",
   "metadata": {},
   "source": [
    "# New Recovery Trend in the World"
   ]
  },
  {
   "cell_type": "code",
   "execution_count": 18,
   "id": "12db7cab",
   "metadata": {
    "ExecuteTime": {
     "start_time": "2024-04-02T17:17:55.058540Z"
    },
    "scrolled": false
   },
   "outputs": [
    {
     "data": {
      "image/png": "[encoded data removed]",
      "text/plain": [
       "<Figure size 1000x1000 with 1 Axes>"
      ]
     },
     "metadata": {},
     "output_type": "display_data"
    }
   ],
   "source": [
    "\n",
    "top_10_countries_recovery = df1.nlargest(10, \"New recovered\")\n",
    "\n",
    "plt.figure(figsize=(10, 10))\n",
    "wedges, texts, autotexts = plt.pie(top_10_countries_recovery[\"New recovered\"], labels=top_10_countries_recovery[\"Country/Region\"], \n",
    "                                   autopct=\"%0.2f%%\", shadow=True, startangle=140, wedgeprops={\"linewidth\": 2},\n",
    "                                   textprops={'fontsize': 10})\n",
    "\n",
    "plt.title(\"Proportion of New Recoveries in Top 10 Countries with Highest Recovery Trend\")\n",
    "\n",
    "# Set aspect ratio to be equal for better circular shape\n",
    "plt.axis('equal')\n",
    "\n",
    "# Move the legend outside the pie chart to avoid overlapping labels\n",
    "plt.legend(loc='center left', bbox_to_anchor=(1, 0.5), fontsize=12)\n",
    "\n",
    "# Adjust padding between the chart and text\n",
    "plt.tight_layout()\n",
    "\n",
    "plt.savefig('covid_recovery.png')\n",
    "\n",
    "plt.show()\n"
   ]
  },
  {
   "cell_type": "markdown",
   "id": "68b8aac6",
   "metadata": {},
   "source": [
    "# country experiences the maximum frequency of recovery case"
   ]
  },
  {
   "cell_type": "code",
   "execution_count": 19,
   "id": "d2ebdcc9",
   "metadata": {
    "ExecuteTime": {
     "start_time": "2024-04-02T17:17:55.060059Z"
    }
   },
   "outputs": [
    {
     "data": {
      "image/png": "[encoded data removed]",
      "text/plain": [
       "<Figure size 1000x800 with 1 Axes>"
      ]
     },
     "metadata": {},
     "output_type": "display_data"
    }
   ],
   "source": [
    "max_recovery_freq = df1.groupby(\"Country/Region\")[\"Recovered / 100 Cases\"].sum().reset_index()\n",
    "max_recovery_freq = max_recovery_freq.sort_values(ascending = False, by =\"Recovered / 100 Cases\")\n",
    "top_10_countries_recovery = max_recovery_freq.head(10)\n",
    "colors = ['skyblue', 'lightblue', 'deepskyblue', 'cornflowerblue', 'royalblue', \n",
    "          'dodgerblue', 'steelblue', 'mediumblue', 'navy', 'darkblue']\n",
    "plt.figure(figsize=(10,8))\n",
    "plt.barh(top_10_countries_recovery[\"Country/Region\"],top_10_countries_recovery[\"Recovered / 100 Cases\"], color=colors)\n",
    "plt.xlabel(\"Total recovery cases\")\n",
    "plt.ylabel(\"Country/Region\")\n",
    "plt.title(\"Total number of recovery cases by country\")\n",
    "plt.tight_layout()\n",
    "plt.savefig('covid_recovery_country.png')\n",
    "plt.show()"
   ]
  },
  {
   "cell_type": "markdown",
   "id": "8549dfea",
   "metadata": {},
   "source": [
    "# Country Experiences the maximum frequency of death cases"
   ]
  },
  {
   "cell_type": "code",
   "execution_count": 20,
   "id": "c1a518a4",
   "metadata": {
    "ExecuteTime": {
     "start_time": "2024-04-02T17:17:55.061078Z"
    }
   },
   "outputs": [
    {
     "data": {
      "image/png": "[encoded data removed]",
      "text/plain": [
       "<Figure size 1000x800 with 1 Axes>"
      ]
     },
     "metadata": {},
     "output_type": "display_data"
    }
   ],
   "source": [
    "max_death_freq = df1.groupby(\"Country/Region\")[\"Deaths / 100 Cases\"].sum()\n",
    "max_death_freq = max_death_freq.sort_values(ascending=False)\n",
    "\n",
    "top_10_country_death = max_death_freq.head(10)\n",
    "\n",
    "colors = ['skyblue', 'lightcoral', 'lightgreen', 'orange', 'pink', 'yellow', 'violet', 'gold', 'lightblue', 'salmon']\n",
    "\n",
    "plt.figure(figsize=(10, 8))\n",
    "bars = plt.barh(top_10_country_death.index, top_10_country_death, color=colors)\n",
    "\n",
    "plt.xlabel(\"Total death cases\")\n",
    "plt.ylabel(\"Country/Region\")\n",
    "plt.title(\"Top number of death cases by country\")\n",
    "plt.tight_layout()\n",
    "plt.savefig('covid_death_country.png')\n",
    "plt.show()\n"
   ]
  },
  {
   "cell_type": "markdown",
   "id": "a20961d8",
   "metadata": {},
   "source": [
    "# Correlation between confirmed,death and recovered cases"
   ]
  },
  {
   "cell_type": "code",
   "execution_count": 21,
   "id": "29baec78",
   "metadata": {
    "ExecuteTime": {
     "start_time": "2024-04-02T17:17:55.062079Z"
    }
   },
   "outputs": [
    {
     "data": {
      "image/png": "[encoded data removed]",
      "text/plain": [
       "<Figure size 1000x800 with 2 Axes>"
      ]
     },
     "metadata": {},
     "output_type": "display_data"
    }
   ],
   "source": [
    "columns = [\"Confirmed\", \"Deaths\", \"Recovered\"]\n",
    "cases_by_country = df1.groupby(\"Country/Region\")[columns].sum()\n",
    "correlation_matrix = cases_by_country.corr()\n",
    "\n",
    "plt.figure(figsize=(10,8))\n",
    "sns.heatmap(correlation_matrix, annot=True ,cmap = \"coolwarm\", fmt = \".2f\", linewidths = 0.5)\n",
    "plt.title(\"Correlation Heatmap: Confirmed, Deaths and Recovered cases\")\n",
    "plt.tight_layout()\n",
    "plt.savefig('covid_correlation.png')\n",
    "plt.show()"
   ]
  },
  {
   "cell_type": "code",
   "execution_count": 22,
   "id": "cc04d9e3",
   "metadata": {
    "ExecuteTime": {
     "start_time": "2024-04-02T17:17:55.063078Z"
    }
   },
   "outputs": [],
   "source": [
    "df2 = pd.read_csv(\"day_wise.csv\")"
   ]
  },
  {
   "cell_type": "code",
   "execution_count": 23,
   "id": "b72a921e",
   "metadata": {
    "ExecuteTime": {
     "start_time": "2024-04-02T17:17:55.064080Z"
    }
   },
   "outputs": [
    {
     "name": "stdout",
     "output_type": "stream",
     "text": [
      "Province/State    0\n",
      "Country/Region    0\n",
      "Lat               0\n",
      "Long              0\n",
      "Date              0\n",
      "Confirmed         0\n",
      "Deaths            0\n",
      "Recovered         0\n",
      "Active            0\n",
      "WHO Region        0\n",
      "dtype: int64\n"
     ]
    }
   ],
   "source": [
    "missing_values = df.isnull().sum()\n",
    "print(missing_values)"
   ]
  },
  {
   "cell_type": "code",
   "execution_count": 24,
   "id": "b60f9b0a",
   "metadata": {
    "ExecuteTime": {
     "start_time": "2024-04-02T17:17:55.065077Z"
    },
    "scrolled": true
   },
   "outputs": [
    {
     "data": {
      "text/html": [
       "<div>\n",
       "<style scoped>\n",
       "    .dataframe tbody tr th:only-of-type {\n",
       "        vertical-align: middle;\n",
       "    }\n",
       "\n",
       "    .dataframe tbody tr th {\n",
       "        vertical-align: top;\n",
       "    }\n",
       "\n",
       "    .dataframe thead th {\n",
       "        text-align: right;\n",
       "    }\n",
       "</style>\n",
       "<table border=\"1\" class=\"dataframe\">\n",
       "  <thead>\n",
       "    <tr style=\"text-align: right;\">\n",
       "      <th></th>\n",
       "      <th>Date</th>\n",
       "      <th>Confirmed</th>\n",
       "      <th>Deaths</th>\n",
       "      <th>Recovered</th>\n",
       "      <th>Active</th>\n",
       "      <th>New cases</th>\n",
       "      <th>New deaths</th>\n",
       "      <th>New recovered</th>\n",
       "      <th>Deaths / 100 Cases</th>\n",
       "      <th>Recovered / 100 Cases</th>\n",
       "      <th>Deaths / 100 Recovered</th>\n",
       "      <th>No. of countries</th>\n",
       "    </tr>\n",
       "  </thead>\n",
       "  <tbody>\n",
       "    <tr>\n",
       "      <th>0</th>\n",
       "      <td>2020-01-22</td>\n",
       "      <td>555</td>\n",
       "      <td>17</td>\n",
       "      <td>28</td>\n",
       "      <td>510</td>\n",
       "      <td>0</td>\n",
       "      <td>0</td>\n",
       "      <td>0</td>\n",
       "      <td>3.06</td>\n",
       "      <td>5.05</td>\n",
       "      <td>60.71</td>\n",
       "      <td>6</td>\n",
       "    </tr>\n",
       "    <tr>\n",
       "      <th>1</th>\n",
       "      <td>2020-01-23</td>\n",
       "      <td>654</td>\n",
       "      <td>18</td>\n",
       "      <td>30</td>\n",
       "      <td>606</td>\n",
       "      <td>99</td>\n",
       "      <td>1</td>\n",
       "      <td>2</td>\n",
       "      <td>2.75</td>\n",
       "      <td>4.59</td>\n",
       "      <td>60.00</td>\n",
       "      <td>8</td>\n",
       "    </tr>\n",
       "    <tr>\n",
       "      <th>2</th>\n",
       "      <td>2020-01-24</td>\n",
       "      <td>941</td>\n",
       "      <td>26</td>\n",
       "      <td>36</td>\n",
       "      <td>879</td>\n",
       "      <td>287</td>\n",
       "      <td>8</td>\n",
       "      <td>6</td>\n",
       "      <td>2.76</td>\n",
       "      <td>3.83</td>\n",
       "      <td>72.22</td>\n",
       "      <td>9</td>\n",
       "    </tr>\n",
       "    <tr>\n",
       "      <th>3</th>\n",
       "      <td>2020-01-25</td>\n",
       "      <td>1434</td>\n",
       "      <td>42</td>\n",
       "      <td>39</td>\n",
       "      <td>1353</td>\n",
       "      <td>493</td>\n",
       "      <td>16</td>\n",
       "      <td>3</td>\n",
       "      <td>2.93</td>\n",
       "      <td>2.72</td>\n",
       "      <td>107.69</td>\n",
       "      <td>11</td>\n",
       "    </tr>\n",
       "    <tr>\n",
       "      <th>4</th>\n",
       "      <td>2020-01-26</td>\n",
       "      <td>2118</td>\n",
       "      <td>56</td>\n",
       "      <td>52</td>\n",
       "      <td>2010</td>\n",
       "      <td>684</td>\n",
       "      <td>14</td>\n",
       "      <td>13</td>\n",
       "      <td>2.64</td>\n",
       "      <td>2.46</td>\n",
       "      <td>107.69</td>\n",
       "      <td>13</td>\n",
       "    </tr>\n",
       "  </tbody>\n",
       "</table>\n",
       "</div>"
      ],
      "text/plain": [
       "         Date  Confirmed  Deaths  Recovered  Active  New cases  New deaths  \\\n",
       "0  2020-01-22        555      17         28     510          0           0   \n",
       "1  2020-01-23        654      18         30     606         99           1   \n",
       "2  2020-01-24        941      26         36     879        287           8   \n",
       "3  2020-01-25       1434      42         39    1353        493          16   \n",
       "4  2020-01-26       2118      56         52    2010        684          14   \n",
       "\n",
       "   New recovered  Deaths / 100 Cases  Recovered / 100 Cases  \\\n",
       "0              0                3.06                   5.05   \n",
       "1              2                2.75                   4.59   \n",
       "2              6                2.76                   3.83   \n",
       "3              3                2.93                   2.72   \n",
       "4             13                2.64                   2.46   \n",
       "\n",
       "   Deaths / 100 Recovered  No. of countries  \n",
       "0                   60.71                 6  \n",
       "1                   60.00                 8  \n",
       "2                   72.22                 9  \n",
       "3                  107.69                11  \n",
       "4                  107.69                13  "
      ]
     },
     "execution_count": 24,
     "metadata": {},
     "output_type": "execute_result"
    }
   ],
   "source": [
    "df2.head()"
   ]
  },
  {
   "cell_type": "code",
   "execution_count": 25,
   "id": "ffe88603",
   "metadata": {
    "ExecuteTime": {
     "start_time": "2024-04-02T17:17:55.066709Z"
    },
    "scrolled": true
   },
   "outputs": [
    {
     "name": "stdout",
     "output_type": "stream",
     "text": [
      "<class 'pandas.core.frame.DataFrame'>\n",
      "RangeIndex: 188 entries, 0 to 187\n",
      "Data columns (total 12 columns):\n",
      " #   Column                  Non-Null Count  Dtype  \n",
      "---  ------                  --------------  -----  \n",
      " 0   Date                    188 non-null    object \n",
      " 1   Confirmed               188 non-null    int64  \n",
      " 2   Deaths                  188 non-null    int64  \n",
      " 3   Recovered               188 non-null    int64  \n",
      " 4   Active                  188 non-null    int64  \n",
      " 5   New cases               188 non-null    int64  \n",
      " 6   New deaths              188 non-null    int64  \n",
      " 7   New recovered           188 non-null    int64  \n",
      " 8   Deaths / 100 Cases      188 non-null    float64\n",
      " 9   Recovered / 100 Cases   188 non-null    float64\n",
      " 10  Deaths / 100 Recovered  188 non-null    float64\n",
      " 11  No. of countries        188 non-null    int64  \n",
      "dtypes: float64(3), int64(8), object(1)\n",
      "memory usage: 17.8+ KB\n"
     ]
    }
   ],
   "source": [
    "df2.info()"
   ]
  },
  {
   "cell_type": "code",
   "execution_count": 26,
   "id": "609f8cc4",
   "metadata": {
    "ExecuteTime": {
     "start_time": "2024-04-02T17:17:55.067618Z"
    }
   },
   "outputs": [
    {
     "data": {
      "text/plain": [
       "Index(['Date', 'Confirmed', 'Deaths', 'Recovered', 'Active', 'New cases',\n",
       "       'New deaths', 'New recovered', 'Deaths / 100 Cases',\n",
       "       'Recovered / 100 Cases', 'Deaths / 100 Recovered', 'No. of countries'],\n",
       "      dtype='object')"
      ]
     },
     "execution_count": 26,
     "metadata": {},
     "output_type": "execute_result"
    }
   ],
   "source": [
    "df2.columns"
   ]
  },
  {
   "cell_type": "code",
   "execution_count": 27,
   "id": "3a2cff88",
   "metadata": {
    "ExecuteTime": {
     "start_time": "2024-04-02T17:17:55.068622Z"
    }
   },
   "outputs": [
    {
     "data": {
      "text/html": [
       "<div>\n",
       "<style scoped>\n",
       "    .dataframe tbody tr th:only-of-type {\n",
       "        vertical-align: middle;\n",
       "    }\n",
       "\n",
       "    .dataframe tbody tr th {\n",
       "        vertical-align: top;\n",
       "    }\n",
       "\n",
       "    .dataframe thead th {\n",
       "        text-align: right;\n",
       "    }\n",
       "</style>\n",
       "<table border=\"1\" class=\"dataframe\">\n",
       "  <thead>\n",
       "    <tr style=\"text-align: right;\">\n",
       "      <th></th>\n",
       "      <th>Confirmed</th>\n",
       "      <th>Deaths</th>\n",
       "      <th>Recovered</th>\n",
       "      <th>Active</th>\n",
       "      <th>New cases</th>\n",
       "      <th>New deaths</th>\n",
       "      <th>New recovered</th>\n",
       "      <th>Deaths / 100 Cases</th>\n",
       "      <th>Recovered / 100 Cases</th>\n",
       "      <th>Deaths / 100 Recovered</th>\n",
       "      <th>No. of countries</th>\n",
       "      <th>Year</th>\n",
       "      <th>month</th>\n",
       "      <th>day</th>\n",
       "    </tr>\n",
       "  </thead>\n",
       "  <tbody>\n",
       "    <tr>\n",
       "      <th>0</th>\n",
       "      <td>555</td>\n",
       "      <td>17</td>\n",
       "      <td>28</td>\n",
       "      <td>510</td>\n",
       "      <td>0</td>\n",
       "      <td>0</td>\n",
       "      <td>0</td>\n",
       "      <td>3.06</td>\n",
       "      <td>5.05</td>\n",
       "      <td>60.71</td>\n",
       "      <td>6</td>\n",
       "      <td>2020</td>\n",
       "      <td>1</td>\n",
       "      <td>22</td>\n",
       "    </tr>\n",
       "    <tr>\n",
       "      <th>1</th>\n",
       "      <td>654</td>\n",
       "      <td>18</td>\n",
       "      <td>30</td>\n",
       "      <td>606</td>\n",
       "      <td>99</td>\n",
       "      <td>1</td>\n",
       "      <td>2</td>\n",
       "      <td>2.75</td>\n",
       "      <td>4.59</td>\n",
       "      <td>60.00</td>\n",
       "      <td>8</td>\n",
       "      <td>2020</td>\n",
       "      <td>1</td>\n",
       "      <td>23</td>\n",
       "    </tr>\n",
       "    <tr>\n",
       "      <th>2</th>\n",
       "      <td>941</td>\n",
       "      <td>26</td>\n",
       "      <td>36</td>\n",
       "      <td>879</td>\n",
       "      <td>287</td>\n",
       "      <td>8</td>\n",
       "      <td>6</td>\n",
       "      <td>2.76</td>\n",
       "      <td>3.83</td>\n",
       "      <td>72.22</td>\n",
       "      <td>9</td>\n",
       "      <td>2020</td>\n",
       "      <td>1</td>\n",
       "      <td>24</td>\n",
       "    </tr>\n",
       "    <tr>\n",
       "      <th>3</th>\n",
       "      <td>1434</td>\n",
       "      <td>42</td>\n",
       "      <td>39</td>\n",
       "      <td>1353</td>\n",
       "      <td>493</td>\n",
       "      <td>16</td>\n",
       "      <td>3</td>\n",
       "      <td>2.93</td>\n",
       "      <td>2.72</td>\n",
       "      <td>107.69</td>\n",
       "      <td>11</td>\n",
       "      <td>2020</td>\n",
       "      <td>1</td>\n",
       "      <td>25</td>\n",
       "    </tr>\n",
       "    <tr>\n",
       "      <th>4</th>\n",
       "      <td>2118</td>\n",
       "      <td>56</td>\n",
       "      <td>52</td>\n",
       "      <td>2010</td>\n",
       "      <td>684</td>\n",
       "      <td>14</td>\n",
       "      <td>13</td>\n",
       "      <td>2.64</td>\n",
       "      <td>2.46</td>\n",
       "      <td>107.69</td>\n",
       "      <td>13</td>\n",
       "      <td>2020</td>\n",
       "      <td>1</td>\n",
       "      <td>26</td>\n",
       "    </tr>\n",
       "  </tbody>\n",
       "</table>\n",
       "</div>"
      ],
      "text/plain": [
       "   Confirmed  Deaths  Recovered  Active  New cases  New deaths  New recovered  \\\n",
       "0        555      17         28     510          0           0              0   \n",
       "1        654      18         30     606         99           1              2   \n",
       "2        941      26         36     879        287           8              6   \n",
       "3       1434      42         39    1353        493          16              3   \n",
       "4       2118      56         52    2010        684          14             13   \n",
       "\n",
       "   Deaths / 100 Cases  Recovered / 100 Cases  Deaths / 100 Recovered  \\\n",
       "0                3.06                   5.05                   60.71   \n",
       "1                2.75                   4.59                   60.00   \n",
       "2                2.76                   3.83                   72.22   \n",
       "3                2.93                   2.72                  107.69   \n",
       "4                2.64                   2.46                  107.69   \n",
       "\n",
       "   No. of countries  Year  month  day  \n",
       "0                 6  2020      1   22  \n",
       "1                 8  2020      1   23  \n",
       "2                 9  2020      1   24  \n",
       "3                11  2020      1   25  \n",
       "4                13  2020      1   26  "
      ]
     },
     "execution_count": 27,
     "metadata": {},
     "output_type": "execute_result"
    }
   ],
   "source": [
    "df2 [\"Date\"] = pd.to_datetime(df2[\"Date\"])\n",
    "df2 [\"Year\"] = pd.DatetimeIndex(df2[\"Date\"]).year\n",
    "df2 [\"month\"] = pd.DatetimeIndex(df2[\"Date\"]).month\n",
    "df2 [\"day\"] = pd.DatetimeIndex(df2[\"Date\"]).day\n",
    "df2 = df2.drop (\"Date\", axis = 1)\n",
    "df2.head()"
   ]
  },
  {
   "cell_type": "code",
   "execution_count": 28,
   "id": "3c59645e",
   "metadata": {
    "ExecuteTime": {
     "start_time": "2024-04-02T17:17:55.071158Z"
    }
   },
   "outputs": [
    {
     "data": {
      "text/html": [
       "<div>\n",
       "<style scoped>\n",
       "    .dataframe tbody tr th:only-of-type {\n",
       "        vertical-align: middle;\n",
       "    }\n",
       "\n",
       "    .dataframe tbody tr th {\n",
       "        vertical-align: top;\n",
       "    }\n",
       "\n",
       "    .dataframe thead th {\n",
       "        text-align: right;\n",
       "    }\n",
       "</style>\n",
       "<table border=\"1\" class=\"dataframe\">\n",
       "  <thead>\n",
       "    <tr style=\"text-align: right;\">\n",
       "      <th></th>\n",
       "      <th>Confirmed</th>\n",
       "      <th>Deaths</th>\n",
       "      <th>Recovered</th>\n",
       "      <th>Active</th>\n",
       "      <th>New cases</th>\n",
       "      <th>New deaths</th>\n",
       "      <th>New recovered</th>\n",
       "      <th>Deaths / 100 Cases</th>\n",
       "      <th>Recovered / 100 Cases</th>\n",
       "      <th>Deaths / 100 Recovered</th>\n",
       "      <th>No. of countries</th>\n",
       "      <th>Year</th>\n",
       "      <th>month</th>\n",
       "      <th>day</th>\n",
       "    </tr>\n",
       "  </thead>\n",
       "  <tbody>\n",
       "    <tr>\n",
       "      <th>10</th>\n",
       "      <td>12038</td>\n",
       "      <td>259</td>\n",
       "      <td>281</td>\n",
       "      <td>11498</td>\n",
       "      <td>2111</td>\n",
       "      <td>46</td>\n",
       "      <td>62</td>\n",
       "      <td>2.15</td>\n",
       "      <td>2.33</td>\n",
       "      <td>92.17</td>\n",
       "      <td>25</td>\n",
       "      <td>2020</td>\n",
       "      <td>2</td>\n",
       "      <td>1</td>\n",
       "    </tr>\n",
       "    <tr>\n",
       "      <th>11</th>\n",
       "      <td>16787</td>\n",
       "      <td>362</td>\n",
       "      <td>459</td>\n",
       "      <td>15966</td>\n",
       "      <td>4749</td>\n",
       "      <td>103</td>\n",
       "      <td>178</td>\n",
       "      <td>2.16</td>\n",
       "      <td>2.73</td>\n",
       "      <td>78.87</td>\n",
       "      <td>25</td>\n",
       "      <td>2020</td>\n",
       "      <td>2</td>\n",
       "      <td>2</td>\n",
       "    </tr>\n",
       "    <tr>\n",
       "      <th>12</th>\n",
       "      <td>19887</td>\n",
       "      <td>426</td>\n",
       "      <td>604</td>\n",
       "      <td>18857</td>\n",
       "      <td>3100</td>\n",
       "      <td>64</td>\n",
       "      <td>145</td>\n",
       "      <td>2.14</td>\n",
       "      <td>3.04</td>\n",
       "      <td>70.53</td>\n",
       "      <td>25</td>\n",
       "      <td>2020</td>\n",
       "      <td>2</td>\n",
       "      <td>3</td>\n",
       "    </tr>\n",
       "    <tr>\n",
       "      <th>13</th>\n",
       "      <td>23898</td>\n",
       "      <td>492</td>\n",
       "      <td>821</td>\n",
       "      <td>22585</td>\n",
       "      <td>4011</td>\n",
       "      <td>66</td>\n",
       "      <td>217</td>\n",
       "      <td>2.06</td>\n",
       "      <td>3.44</td>\n",
       "      <td>59.93</td>\n",
       "      <td>26</td>\n",
       "      <td>2020</td>\n",
       "      <td>2</td>\n",
       "      <td>4</td>\n",
       "    </tr>\n",
       "    <tr>\n",
       "      <th>14</th>\n",
       "      <td>27643</td>\n",
       "      <td>564</td>\n",
       "      <td>1071</td>\n",
       "      <td>26008</td>\n",
       "      <td>3745</td>\n",
       "      <td>72</td>\n",
       "      <td>250</td>\n",
       "      <td>2.04</td>\n",
       "      <td>3.87</td>\n",
       "      <td>52.66</td>\n",
       "      <td>26</td>\n",
       "      <td>2020</td>\n",
       "      <td>2</td>\n",
       "      <td>5</td>\n",
       "    </tr>\n",
       "    <tr>\n",
       "      <th>15</th>\n",
       "      <td>30802</td>\n",
       "      <td>634</td>\n",
       "      <td>1418</td>\n",
       "      <td>28750</td>\n",
       "      <td>3159</td>\n",
       "      <td>70</td>\n",
       "      <td>347</td>\n",
       "      <td>2.06</td>\n",
       "      <td>4.60</td>\n",
       "      <td>44.71</td>\n",
       "      <td>26</td>\n",
       "      <td>2020</td>\n",
       "      <td>2</td>\n",
       "      <td>6</td>\n",
       "    </tr>\n",
       "    <tr>\n",
       "      <th>16</th>\n",
       "      <td>34334</td>\n",
       "      <td>719</td>\n",
       "      <td>1903</td>\n",
       "      <td>31712</td>\n",
       "      <td>3532</td>\n",
       "      <td>85</td>\n",
       "      <td>485</td>\n",
       "      <td>2.09</td>\n",
       "      <td>5.54</td>\n",
       "      <td>37.78</td>\n",
       "      <td>26</td>\n",
       "      <td>2020</td>\n",
       "      <td>2</td>\n",
       "      <td>7</td>\n",
       "    </tr>\n",
       "    <tr>\n",
       "      <th>17</th>\n",
       "      <td>37068</td>\n",
       "      <td>806</td>\n",
       "      <td>2470</td>\n",
       "      <td>33792</td>\n",
       "      <td>2734</td>\n",
       "      <td>87</td>\n",
       "      <td>567</td>\n",
       "      <td>2.17</td>\n",
       "      <td>6.66</td>\n",
       "      <td>32.63</td>\n",
       "      <td>26</td>\n",
       "      <td>2020</td>\n",
       "      <td>2</td>\n",
       "      <td>8</td>\n",
       "    </tr>\n",
       "    <tr>\n",
       "      <th>18</th>\n",
       "      <td>40095</td>\n",
       "      <td>906</td>\n",
       "      <td>3057</td>\n",
       "      <td>36132</td>\n",
       "      <td>3027</td>\n",
       "      <td>100</td>\n",
       "      <td>587</td>\n",
       "      <td>2.26</td>\n",
       "      <td>7.62</td>\n",
       "      <td>29.64</td>\n",
       "      <td>26</td>\n",
       "      <td>2020</td>\n",
       "      <td>2</td>\n",
       "      <td>9</td>\n",
       "    </tr>\n",
       "    <tr>\n",
       "      <th>19</th>\n",
       "      <td>42633</td>\n",
       "      <td>1013</td>\n",
       "      <td>3714</td>\n",
       "      <td>37906</td>\n",
       "      <td>2538</td>\n",
       "      <td>107</td>\n",
       "      <td>657</td>\n",
       "      <td>2.38</td>\n",
       "      <td>8.71</td>\n",
       "      <td>27.28</td>\n",
       "      <td>26</td>\n",
       "      <td>2020</td>\n",
       "      <td>2</td>\n",
       "      <td>10</td>\n",
       "    </tr>\n",
       "    <tr>\n",
       "      <th>20</th>\n",
       "      <td>44675</td>\n",
       "      <td>1113</td>\n",
       "      <td>4417</td>\n",
       "      <td>39145</td>\n",
       "      <td>2042</td>\n",
       "      <td>100</td>\n",
       "      <td>703</td>\n",
       "      <td>2.49</td>\n",
       "      <td>9.89</td>\n",
       "      <td>25.20</td>\n",
       "      <td>26</td>\n",
       "      <td>2020</td>\n",
       "      <td>2</td>\n",
       "      <td>11</td>\n",
       "    </tr>\n",
       "    <tr>\n",
       "      <th>21</th>\n",
       "      <td>46561</td>\n",
       "      <td>1118</td>\n",
       "      <td>4849</td>\n",
       "      <td>40594</td>\n",
       "      <td>1886</td>\n",
       "      <td>5</td>\n",
       "      <td>432</td>\n",
       "      <td>2.40</td>\n",
       "      <td>10.41</td>\n",
       "      <td>23.06</td>\n",
       "      <td>26</td>\n",
       "      <td>2020</td>\n",
       "      <td>2</td>\n",
       "      <td>12</td>\n",
       "    </tr>\n",
       "    <tr>\n",
       "      <th>22</th>\n",
       "      <td>60206</td>\n",
       "      <td>1371</td>\n",
       "      <td>5930</td>\n",
       "      <td>52905</td>\n",
       "      <td>13645</td>\n",
       "      <td>253</td>\n",
       "      <td>1081</td>\n",
       "      <td>2.28</td>\n",
       "      <td>9.85</td>\n",
       "      <td>23.12</td>\n",
       "      <td>26</td>\n",
       "      <td>2020</td>\n",
       "      <td>2</td>\n",
       "      <td>13</td>\n",
       "    </tr>\n",
       "    <tr>\n",
       "      <th>23</th>\n",
       "      <td>66690</td>\n",
       "      <td>1523</td>\n",
       "      <td>7613</td>\n",
       "      <td>57554</td>\n",
       "      <td>6484</td>\n",
       "      <td>152</td>\n",
       "      <td>1683</td>\n",
       "      <td>2.28</td>\n",
       "      <td>11.42</td>\n",
       "      <td>20.01</td>\n",
       "      <td>27</td>\n",
       "      <td>2020</td>\n",
       "      <td>2</td>\n",
       "      <td>14</td>\n",
       "    </tr>\n",
       "    <tr>\n",
       "      <th>24</th>\n",
       "      <td>68765</td>\n",
       "      <td>1666</td>\n",
       "      <td>8902</td>\n",
       "      <td>58197</td>\n",
       "      <td>2075</td>\n",
       "      <td>143</td>\n",
       "      <td>1289</td>\n",
       "      <td>2.42</td>\n",
       "      <td>12.95</td>\n",
       "      <td>18.71</td>\n",
       "      <td>27</td>\n",
       "      <td>2020</td>\n",
       "      <td>2</td>\n",
       "      <td>15</td>\n",
       "    </tr>\n",
       "    <tr>\n",
       "      <th>25</th>\n",
       "      <td>70879</td>\n",
       "      <td>1770</td>\n",
       "      <td>10319</td>\n",
       "      <td>58790</td>\n",
       "      <td>2114</td>\n",
       "      <td>104</td>\n",
       "      <td>1417</td>\n",
       "      <td>2.50</td>\n",
       "      <td>14.56</td>\n",
       "      <td>17.15</td>\n",
       "      <td>27</td>\n",
       "      <td>2020</td>\n",
       "      <td>2</td>\n",
       "      <td>16</td>\n",
       "    </tr>\n",
       "    <tr>\n",
       "      <th>26</th>\n",
       "      <td>72815</td>\n",
       "      <td>1868</td>\n",
       "      <td>11951</td>\n",
       "      <td>58996</td>\n",
       "      <td>1936</td>\n",
       "      <td>98</td>\n",
       "      <td>1632</td>\n",
       "      <td>2.57</td>\n",
       "      <td>16.41</td>\n",
       "      <td>15.63</td>\n",
       "      <td>27</td>\n",
       "      <td>2020</td>\n",
       "      <td>2</td>\n",
       "      <td>17</td>\n",
       "    </tr>\n",
       "    <tr>\n",
       "      <th>27</th>\n",
       "      <td>74609</td>\n",
       "      <td>2008</td>\n",
       "      <td>13693</td>\n",
       "      <td>58908</td>\n",
       "      <td>1794</td>\n",
       "      <td>140</td>\n",
       "      <td>1742</td>\n",
       "      <td>2.69</td>\n",
       "      <td>18.35</td>\n",
       "      <td>14.66</td>\n",
       "      <td>27</td>\n",
       "      <td>2020</td>\n",
       "      <td>2</td>\n",
       "      <td>18</td>\n",
       "    </tr>\n",
       "    <tr>\n",
       "      <th>28</th>\n",
       "      <td>75030</td>\n",
       "      <td>2123</td>\n",
       "      <td>15394</td>\n",
       "      <td>57513</td>\n",
       "      <td>421</td>\n",
       "      <td>115</td>\n",
       "      <td>1701</td>\n",
       "      <td>2.83</td>\n",
       "      <td>20.52</td>\n",
       "      <td>13.79</td>\n",
       "      <td>28</td>\n",
       "      <td>2020</td>\n",
       "      <td>2</td>\n",
       "      <td>19</td>\n",
       "    </tr>\n",
       "    <tr>\n",
       "      <th>29</th>\n",
       "      <td>75577</td>\n",
       "      <td>2246</td>\n",
       "      <td>17369</td>\n",
       "      <td>55962</td>\n",
       "      <td>547</td>\n",
       "      <td>123</td>\n",
       "      <td>1975</td>\n",
       "      <td>2.97</td>\n",
       "      <td>22.98</td>\n",
       "      <td>12.93</td>\n",
       "      <td>28</td>\n",
       "      <td>2020</td>\n",
       "      <td>2</td>\n",
       "      <td>20</td>\n",
       "    </tr>\n",
       "    <tr>\n",
       "      <th>30</th>\n",
       "      <td>76206</td>\n",
       "      <td>2250</td>\n",
       "      <td>17966</td>\n",
       "      <td>55990</td>\n",
       "      <td>629</td>\n",
       "      <td>4</td>\n",
       "      <td>597</td>\n",
       "      <td>2.95</td>\n",
       "      <td>23.58</td>\n",
       "      <td>12.52</td>\n",
       "      <td>30</td>\n",
       "      <td>2020</td>\n",
       "      <td>2</td>\n",
       "      <td>21</td>\n",
       "    </tr>\n",
       "    <tr>\n",
       "      <th>31</th>\n",
       "      <td>77967</td>\n",
       "      <td>2457</td>\n",
       "      <td>21849</td>\n",
       "      <td>53661</td>\n",
       "      <td>1761</td>\n",
       "      <td>207</td>\n",
       "      <td>3883</td>\n",
       "      <td>3.15</td>\n",
       "      <td>28.02</td>\n",
       "      <td>11.25</td>\n",
       "      <td>30</td>\n",
       "      <td>2020</td>\n",
       "      <td>2</td>\n",
       "      <td>22</td>\n",
       "    </tr>\n",
       "    <tr>\n",
       "      <th>32</th>\n",
       "      <td>78290</td>\n",
       "      <td>2467</td>\n",
       "      <td>22304</td>\n",
       "      <td>53519</td>\n",
       "      <td>323</td>\n",
       "      <td>10</td>\n",
       "      <td>455</td>\n",
       "      <td>3.15</td>\n",
       "      <td>28.49</td>\n",
       "      <td>11.06</td>\n",
       "      <td>31</td>\n",
       "      <td>2020</td>\n",
       "      <td>2</td>\n",
       "      <td>23</td>\n",
       "    </tr>\n",
       "    <tr>\n",
       "      <th>33</th>\n",
       "      <td>78854</td>\n",
       "      <td>2627</td>\n",
       "      <td>24047</td>\n",
       "      <td>52180</td>\n",
       "      <td>564</td>\n",
       "      <td>160</td>\n",
       "      <td>1743</td>\n",
       "      <td>3.33</td>\n",
       "      <td>30.50</td>\n",
       "      <td>10.92</td>\n",
       "      <td>36</td>\n",
       "      <td>2020</td>\n",
       "      <td>2</td>\n",
       "      <td>24</td>\n",
       "    </tr>\n",
       "    <tr>\n",
       "      <th>34</th>\n",
       "      <td>79707</td>\n",
       "      <td>2707</td>\n",
       "      <td>26652</td>\n",
       "      <td>50348</td>\n",
       "      <td>853</td>\n",
       "      <td>80</td>\n",
       "      <td>2605</td>\n",
       "      <td>3.40</td>\n",
       "      <td>33.44</td>\n",
       "      <td>10.16</td>\n",
       "      <td>41</td>\n",
       "      <td>2020</td>\n",
       "      <td>2</td>\n",
       "      <td>25</td>\n",
       "    </tr>\n",
       "    <tr>\n",
       "      <th>35</th>\n",
       "      <td>80670</td>\n",
       "      <td>2767</td>\n",
       "      <td>29077</td>\n",
       "      <td>48826</td>\n",
       "      <td>963</td>\n",
       "      <td>60</td>\n",
       "      <td>2425</td>\n",
       "      <td>3.43</td>\n",
       "      <td>36.04</td>\n",
       "      <td>9.52</td>\n",
       "      <td>47</td>\n",
       "      <td>2020</td>\n",
       "      <td>2</td>\n",
       "      <td>26</td>\n",
       "    </tr>\n",
       "    <tr>\n",
       "      <th>36</th>\n",
       "      <td>82034</td>\n",
       "      <td>2810</td>\n",
       "      <td>31919</td>\n",
       "      <td>47305</td>\n",
       "      <td>1364</td>\n",
       "      <td>43</td>\n",
       "      <td>2842</td>\n",
       "      <td>3.43</td>\n",
       "      <td>38.91</td>\n",
       "      <td>8.80</td>\n",
       "      <td>51</td>\n",
       "      <td>2020</td>\n",
       "      <td>2</td>\n",
       "      <td>27</td>\n",
       "    </tr>\n",
       "    <tr>\n",
       "      <th>37</th>\n",
       "      <td>83411</td>\n",
       "      <td>2867</td>\n",
       "      <td>35306</td>\n",
       "      <td>45238</td>\n",
       "      <td>1377</td>\n",
       "      <td>57</td>\n",
       "      <td>3387</td>\n",
       "      <td>3.44</td>\n",
       "      <td>42.33</td>\n",
       "      <td>8.12</td>\n",
       "      <td>57</td>\n",
       "      <td>2020</td>\n",
       "      <td>2</td>\n",
       "      <td>28</td>\n",
       "    </tr>\n",
       "    <tr>\n",
       "      <th>38</th>\n",
       "      <td>85306</td>\n",
       "      <td>2936</td>\n",
       "      <td>38314</td>\n",
       "      <td>44056</td>\n",
       "      <td>1895</td>\n",
       "      <td>69</td>\n",
       "      <td>3008</td>\n",
       "      <td>3.44</td>\n",
       "      <td>44.91</td>\n",
       "      <td>7.66</td>\n",
       "      <td>61</td>\n",
       "      <td>2020</td>\n",
       "      <td>2</td>\n",
       "      <td>29</td>\n",
       "    </tr>\n",
       "  </tbody>\n",
       "</table>\n",
       "</div>"
      ],
      "text/plain": [
       "    Confirmed  Deaths  Recovered  Active  New cases  New deaths  \\\n",
       "10      12038     259        281   11498       2111          46   \n",
       "11      16787     362        459   15966       4749         103   \n",
       "12      19887     426        604   18857       3100          64   \n",
       "13      23898     492        821   22585       4011          66   \n",
       "14      27643     564       1071   26008       3745          72   \n",
       "15      30802     634       1418   28750       3159          70   \n",
       "16      34334     719       1903   31712       3532          85   \n",
       "17      37068     806       2470   33792       2734          87   \n",
       "18      40095     906       3057   36132       3027         100   \n",
       "19      42633    1013       3714   37906       2538         107   \n",
       "20      44675    1113       4417   39145       2042         100   \n",
       "21      46561    1118       4849   40594       1886           5   \n",
       "22      60206    1371       5930   52905      13645         253   \n",
       "23      66690    1523       7613   57554       6484         152   \n",
       "24      68765    1666       8902   58197       2075         143   \n",
       "25      70879    1770      10319   58790       2114         104   \n",
       "26      72815    1868      11951   58996       1936          98   \n",
       "27      74609    2008      13693   58908       1794         140   \n",
       "28      75030    2123      15394   57513        421         115   \n",
       "29      75577    2246      17369   55962        547         123   \n",
       "30      76206    2250      17966   55990        629           4   \n",
       "31      77967    2457      21849   53661       1761         207   \n",
       "32      78290    2467      22304   53519        323          10   \n",
       "33      78854    2627      24047   52180        564         160   \n",
       "34      79707    2707      26652   50348        853          80   \n",
       "35      80670    2767      29077   48826        963          60   \n",
       "36      82034    2810      31919   47305       1364          43   \n",
       "37      83411    2867      35306   45238       1377          57   \n",
       "38      85306    2936      38314   44056       1895          69   \n",
       "\n",
       "    New recovered  Deaths / 100 Cases  Recovered / 100 Cases  \\\n",
       "10             62                2.15                   2.33   \n",
       "11            178                2.16                   2.73   \n",
       "12            145                2.14                   3.04   \n",
       "13            217                2.06                   3.44   \n",
       "14            250                2.04                   3.87   \n",
       "15            347                2.06                   4.60   \n",
       "16            485                2.09                   5.54   \n",
       "17            567                2.17                   6.66   \n",
       "18            587                2.26                   7.62   \n",
       "19            657                2.38                   8.71   \n",
       "20            703                2.49                   9.89   \n",
       "21            432                2.40                  10.41   \n",
       "22           1081                2.28                   9.85   \n",
       "23           1683                2.28                  11.42   \n",
       "24           1289                2.42                  12.95   \n",
       "25           1417                2.50                  14.56   \n",
       "26           1632                2.57                  16.41   \n",
       "27           1742                2.69                  18.35   \n",
       "28           1701                2.83                  20.52   \n",
       "29           1975                2.97                  22.98   \n",
       "30            597                2.95                  23.58   \n",
       "31           3883                3.15                  28.02   \n",
       "32            455                3.15                  28.49   \n",
       "33           1743                3.33                  30.50   \n",
       "34           2605                3.40                  33.44   \n",
       "35           2425                3.43                  36.04   \n",
       "36           2842                3.43                  38.91   \n",
       "37           3387                3.44                  42.33   \n",
       "38           3008                3.44                  44.91   \n",
       "\n",
       "    Deaths / 100 Recovered  No. of countries  Year  month  day  \n",
       "10                   92.17                25  2020      2    1  \n",
       "11                   78.87                25  2020      2    2  \n",
       "12                   70.53                25  2020      2    3  \n",
       "13                   59.93                26  2020      2    4  \n",
       "14                   52.66                26  2020      2    5  \n",
       "15                   44.71                26  2020      2    6  \n",
       "16                   37.78                26  2020      2    7  \n",
       "17                   32.63                26  2020      2    8  \n",
       "18                   29.64                26  2020      2    9  \n",
       "19                   27.28                26  2020      2   10  \n",
       "20                   25.20                26  2020      2   11  \n",
       "21                   23.06                26  2020      2   12  \n",
       "22                   23.12                26  2020      2   13  \n",
       "23                   20.01                27  2020      2   14  \n",
       "24                   18.71                27  2020      2   15  \n",
       "25                   17.15                27  2020      2   16  \n",
       "26                   15.63                27  2020      2   17  \n",
       "27                   14.66                27  2020      2   18  \n",
       "28                   13.79                28  2020      2   19  \n",
       "29                   12.93                28  2020      2   20  \n",
       "30                   12.52                30  2020      2   21  \n",
       "31                   11.25                30  2020      2   22  \n",
       "32                   11.06                31  2020      2   23  \n",
       "33                   10.92                36  2020      2   24  \n",
       "34                   10.16                41  2020      2   25  \n",
       "35                    9.52                47  2020      2   26  \n",
       "36                    8.80                51  2020      2   27  \n",
       "37                    8.12                57  2020      2   28  \n",
       "38                    7.66                61  2020      2   29  "
      ]
     },
     "execution_count": 28,
     "metadata": {},
     "output_type": "execute_result"
    }
   ],
   "source": [
    "feb_month = df2[df2[\"month\"] == 2]\n",
    "feb_month"
   ]
  },
  {
   "cell_type": "markdown",
   "id": "66faac73",
   "metadata": {},
   "source": [
    "# Confirmed Cases Trend in February"
   ]
  },
  {
   "cell_type": "code",
   "execution_count": 29,
   "id": "4cc8fa76",
   "metadata": {
    "ExecuteTime": {
     "start_time": "2024-04-02T17:17:55.073161Z"
    }
   },
   "outputs": [
    {
     "data": {
      "image/png": "[encoded data removed]",
      "text/plain": [
       "<Figure size 1000x600 with 1 Axes>"
      ]
     },
     "metadata": {},
     "output_type": "display_data"
    }
   ],
   "source": [
    "# january_data = df2.head(31) \n",
    "feb_data = feb_month\n",
    "plt.figure(figsize=(10, 6))\n",
    "plt.plot(feb_data.index, feb_data[\"Confirmed\"], label=\"Confirmed Cases\", marker=\"o\")\n",
    "plt.xlabel(\"Day\")\n",
    "plt.ylabel(\"Confirmed Cases\")\n",
    "plt.title(\"Confirmed Cases Trend in February\")\n",
    "plt.legend()\n",
    "plt.xticks(rotation=45)\n",
    "plt.grid()\n",
    "plt.savefig('covid_jan_trend_confirmed.png')\n",
    "plt.show()\n"
   ]
  },
  {
   "cell_type": "markdown",
   "id": "3ede7a1c",
   "metadata": {},
   "source": [
    "# Deaths trend in February"
   ]
  },
  {
   "cell_type": "code",
   "execution_count": 30,
   "id": "bdd5de57",
   "metadata": {
    "ExecuteTime": {
     "start_time": "2024-04-02T17:17:55.074169Z"
    }
   },
   "outputs": [
    {
     "data": {
      "image/png": "[encoded data removed]",
      "text/plain": [
       "<Figure size 1000x600 with 1 Axes>"
      ]
     },
     "metadata": {},
     "output_type": "display_data"
    }
   ],
   "source": [
    "feb_data = feb_month\n",
    "\n",
    "plt.figure(figsize=(10,6))\n",
    "plt.plot(feb_data.index, feb_data[\"Deaths\"], label = \"Deaths\", marker = \"o\")\n",
    "plt.xlabel(\"Day\")\n",
    "plt.ylabel(\"Deaths\")\n",
    "plt.title(\"Deaths trend in February\")\n",
    "plt.legend()\n",
    "plt.xticks(rotation = 45)\n",
    "plt.grid()\n",
    "plt.savefig('covid_jan_trend_death.png')\n",
    "plt.show()"
   ]
  },
  {
   "cell_type": "markdown",
   "id": "abe4e3bd",
   "metadata": {},
   "source": [
    "# Recovered cases trends in February"
   ]
  },
  {
   "cell_type": "code",
   "execution_count": 31,
   "id": "108ec3e2",
   "metadata": {},
   "outputs": [
    {
     "data": {
      "image/png": "[encoded data removed]",
      "text/plain": [
       "<Figure size 1000x600 with 1 Axes>"
      ]
     },
     "metadata": {},
     "output_type": "display_data"
    }
   ],
   "source": [
    "feb_data = feb_month\n",
    "\n",
    "plt.figure(figsize=(10,6))\n",
    "plt.plot(feb_data.index, feb_data[\"Recovered\"], label = \"Recovered\", marker =\"o\")\n",
    "plt.xlabel(\"Day\")\n",
    "plt.ylabel(\"Recovered\")\n",
    "plt.title(\"Recovered cases trends in February\")\n",
    "plt.legend()\n",
    "plt.xticks(rotation = 45)\n",
    "plt.grid()\n",
    "plt.savefig('covid_jan_trend_recovery.png')\n",
    "plt.show()"
   ]
  },
  {
   "cell_type": "code",
   "execution_count": 32,
   "id": "815cfe63",
   "metadata": {
    "ExecuteTime": {
     "start_time": "2024-04-02T17:17:55.077165Z"
    }
   },
   "outputs": [],
   "source": [
    "df3 = pd.read_csv(\"full_grouped.csv\")"
   ]
  },
  {
   "cell_type": "code",
   "execution_count": 33,
   "id": "ff0db96f",
   "metadata": {
    "ExecuteTime": {
     "start_time": "2024-04-02T17:17:55.078167Z"
    },
    "scrolled": true
   },
   "outputs": [
    {
     "data": {
      "text/html": [
       "<div>\n",
       "<style scoped>\n",
       "    .dataframe tbody tr th:only-of-type {\n",
       "        vertical-align: middle;\n",
       "    }\n",
       "\n",
       "    .dataframe tbody tr th {\n",
       "        vertical-align: top;\n",
       "    }\n",
       "\n",
       "    .dataframe thead th {\n",
       "        text-align: right;\n",
       "    }\n",
       "</style>\n",
       "<table border=\"1\" class=\"dataframe\">\n",
       "  <thead>\n",
       "    <tr style=\"text-align: right;\">\n",
       "      <th></th>\n",
       "      <th>Date</th>\n",
       "      <th>Country/Region</th>\n",
       "      <th>Confirmed</th>\n",
       "      <th>Deaths</th>\n",
       "      <th>Recovered</th>\n",
       "      <th>Active</th>\n",
       "      <th>New cases</th>\n",
       "      <th>New deaths</th>\n",
       "      <th>New recovered</th>\n",
       "      <th>WHO Region</th>\n",
       "    </tr>\n",
       "  </thead>\n",
       "  <tbody>\n",
       "    <tr>\n",
       "      <th>0</th>\n",
       "      <td>2020-01-22</td>\n",
       "      <td>Afghanistan</td>\n",
       "      <td>0</td>\n",
       "      <td>0</td>\n",
       "      <td>0</td>\n",
       "      <td>0</td>\n",
       "      <td>0</td>\n",
       "      <td>0</td>\n",
       "      <td>0</td>\n",
       "      <td>Eastern Mediterranean</td>\n",
       "    </tr>\n",
       "    <tr>\n",
       "      <th>1</th>\n",
       "      <td>2020-01-22</td>\n",
       "      <td>Albania</td>\n",
       "      <td>0</td>\n",
       "      <td>0</td>\n",
       "      <td>0</td>\n",
       "      <td>0</td>\n",
       "      <td>0</td>\n",
       "      <td>0</td>\n",
       "      <td>0</td>\n",
       "      <td>Europe</td>\n",
       "    </tr>\n",
       "    <tr>\n",
       "      <th>2</th>\n",
       "      <td>2020-01-22</td>\n",
       "      <td>Algeria</td>\n",
       "      <td>0</td>\n",
       "      <td>0</td>\n",
       "      <td>0</td>\n",
       "      <td>0</td>\n",
       "      <td>0</td>\n",
       "      <td>0</td>\n",
       "      <td>0</td>\n",
       "      <td>Africa</td>\n",
       "    </tr>\n",
       "    <tr>\n",
       "      <th>3</th>\n",
       "      <td>2020-01-22</td>\n",
       "      <td>Andorra</td>\n",
       "      <td>0</td>\n",
       "      <td>0</td>\n",
       "      <td>0</td>\n",
       "      <td>0</td>\n",
       "      <td>0</td>\n",
       "      <td>0</td>\n",
       "      <td>0</td>\n",
       "      <td>Europe</td>\n",
       "    </tr>\n",
       "    <tr>\n",
       "      <th>4</th>\n",
       "      <td>2020-01-22</td>\n",
       "      <td>Angola</td>\n",
       "      <td>0</td>\n",
       "      <td>0</td>\n",
       "      <td>0</td>\n",
       "      <td>0</td>\n",
       "      <td>0</td>\n",
       "      <td>0</td>\n",
       "      <td>0</td>\n",
       "      <td>Africa</td>\n",
       "    </tr>\n",
       "  </tbody>\n",
       "</table>\n",
       "</div>"
      ],
      "text/plain": [
       "         Date Country/Region  Confirmed  Deaths  Recovered  Active  New cases  \\\n",
       "0  2020-01-22    Afghanistan          0       0          0       0          0   \n",
       "1  2020-01-22        Albania          0       0          0       0          0   \n",
       "2  2020-01-22        Algeria          0       0          0       0          0   \n",
       "3  2020-01-22        Andorra          0       0          0       0          0   \n",
       "4  2020-01-22         Angola          0       0          0       0          0   \n",
       "\n",
       "   New deaths  New recovered             WHO Region  \n",
       "0           0              0  Eastern Mediterranean  \n",
       "1           0              0                 Europe  \n",
       "2           0              0                 Africa  \n",
       "3           0              0                 Europe  \n",
       "4           0              0                 Africa  "
      ]
     },
     "execution_count": 33,
     "metadata": {},
     "output_type": "execute_result"
    }
   ],
   "source": [
    "df3.head()"
   ]
  },
  {
   "cell_type": "code",
   "execution_count": 34,
   "id": "1f2cf81d",
   "metadata": {
    "ExecuteTime": {
     "start_time": "2024-04-02T17:17:55.079163Z"
    }
   },
   "outputs": [
    {
     "name": "stdout",
     "output_type": "stream",
     "text": [
      "<class 'pandas.core.frame.DataFrame'>\n",
      "RangeIndex: 35156 entries, 0 to 35155\n",
      "Data columns (total 10 columns):\n",
      " #   Column          Non-Null Count  Dtype \n",
      "---  ------          --------------  ----- \n",
      " 0   Date            35156 non-null  object\n",
      " 1   Country/Region  35156 non-null  object\n",
      " 2   Confirmed       35156 non-null  int64 \n",
      " 3   Deaths          35156 non-null  int64 \n",
      " 4   Recovered       35156 non-null  int64 \n",
      " 5   Active          35156 non-null  int64 \n",
      " 6   New cases       35156 non-null  int64 \n",
      " 7   New deaths      35156 non-null  int64 \n",
      " 8   New recovered   35156 non-null  int64 \n",
      " 9   WHO Region      35156 non-null  object\n",
      "dtypes: int64(7), object(3)\n",
      "memory usage: 2.7+ MB\n"
     ]
    }
   ],
   "source": [
    "df3.info()"
   ]
  },
  {
   "cell_type": "markdown",
   "id": "48bf7577",
   "metadata": {},
   "source": [
    "# COVID-19 Statistics comparison:Top 10 Countries"
   ]
  },
  {
   "cell_type": "code",
   "execution_count": 35,
   "id": "d8b6ffd0",
   "metadata": {
    "ExecuteTime": {
     "start_time": "2024-04-02T17:17:55.079163Z"
    }
   },
   "outputs": [
    {
     "data": {
      "image/png": "[encoded data removed]",
      "text/plain": [
       "<Figure size 1200x800 with 1 Axes>"
      ]
     },
     "metadata": {},
     "output_type": "display_data"
    }
   ],
   "source": [
    "\n",
    "# Let's assume you want to compare the top 10 countries with the highest confirmed cases\n",
    "top_countries_confirmed = df3.nlargest(10, 'Confirmed')\n",
    "\n",
    "plt.figure(figsize=(12, 8))\n",
    "bar_width = 0.2\n",
    "bar_positions = range(len(top_countries_confirmed))\n",
    "\n",
    "plt.bar(bar_positions, top_countries_confirmed['Confirmed'], label='Confirmed', color='blue', width=bar_width)\n",
    "plt.bar([pos + bar_width for pos in bar_positions], top_countries_confirmed['Deaths'], label='Deaths', color='red', width=bar_width)\n",
    "plt.bar([pos + 2 * bar_width for pos in bar_positions], top_countries_confirmed['Recovered'], label='Recovered', color='green', width=bar_width)\n",
    "\n",
    "plt.xlabel('Country/Region')\n",
    "plt.ylabel('Number of Cases')\n",
    "plt.title('Comparison of COVID-19 Statistics in Top 10 Countries with the Highest Confirmed Cases')\n",
    "plt.xticks([pos + bar_width for pos in bar_positions], top_countries_confirmed['Country/Region'], rotation=45)\n",
    "plt.legend()\n",
    "plt.tight_layout()\n",
    "plt.savefig('covid_country_confirmed.png')\n",
    "plt.show()\n"
   ]
  },
  {
   "cell_type": "code",
   "execution_count": 36,
   "id": "cdf76c87",
   "metadata": {
    "scrolled": true
   },
   "outputs": [
    {
     "data": {
      "text/html": [
       "<div>\n",
       "<style scoped>\n",
       "    .dataframe tbody tr th:only-of-type {\n",
       "        vertical-align: middle;\n",
       "    }\n",
       "\n",
       "    .dataframe tbody tr th {\n",
       "        vertical-align: top;\n",
       "    }\n",
       "\n",
       "    .dataframe thead th {\n",
       "        text-align: right;\n",
       "    }\n",
       "</style>\n",
       "<table border=\"1\" class=\"dataframe\">\n",
       "  <thead>\n",
       "    <tr style=\"text-align: right;\">\n",
       "      <th></th>\n",
       "      <th>Country/Region</th>\n",
       "      <th>Continent</th>\n",
       "      <th>Population</th>\n",
       "      <th>TotalCases</th>\n",
       "      <th>NewCases</th>\n",
       "      <th>TotalDeaths</th>\n",
       "      <th>NewDeaths</th>\n",
       "      <th>TotalRecovered</th>\n",
       "      <th>NewRecovered</th>\n",
       "      <th>ActiveCases</th>\n",
       "      <th>Serious,Critical</th>\n",
       "      <th>Tot Cases/1M pop</th>\n",
       "      <th>Deaths/1M pop</th>\n",
       "      <th>TotalTests</th>\n",
       "      <th>Tests/1M pop</th>\n",
       "      <th>WHO Region</th>\n",
       "    </tr>\n",
       "  </thead>\n",
       "  <tbody>\n",
       "    <tr>\n",
       "      <th>0</th>\n",
       "      <td>USA</td>\n",
       "      <td>North America</td>\n",
       "      <td>3.311981e+08</td>\n",
       "      <td>5032179</td>\n",
       "      <td>NaN</td>\n",
       "      <td>162804.0</td>\n",
       "      <td>NaN</td>\n",
       "      <td>2576668.0</td>\n",
       "      <td>NaN</td>\n",
       "      <td>2292707.0</td>\n",
       "      <td>18296.0</td>\n",
       "      <td>15194.0</td>\n",
       "      <td>492.0</td>\n",
       "      <td>63139605.0</td>\n",
       "      <td>190640.0</td>\n",
       "      <td>Americas</td>\n",
       "    </tr>\n",
       "    <tr>\n",
       "      <th>1</th>\n",
       "      <td>Brazil</td>\n",
       "      <td>South America</td>\n",
       "      <td>2.127107e+08</td>\n",
       "      <td>2917562</td>\n",
       "      <td>NaN</td>\n",
       "      <td>98644.0</td>\n",
       "      <td>NaN</td>\n",
       "      <td>2047660.0</td>\n",
       "      <td>NaN</td>\n",
       "      <td>771258.0</td>\n",
       "      <td>8318.0</td>\n",
       "      <td>13716.0</td>\n",
       "      <td>464.0</td>\n",
       "      <td>13206188.0</td>\n",
       "      <td>62085.0</td>\n",
       "      <td>Americas</td>\n",
       "    </tr>\n",
       "    <tr>\n",
       "      <th>2</th>\n",
       "      <td>India</td>\n",
       "      <td>Asia</td>\n",
       "      <td>1.381345e+09</td>\n",
       "      <td>2025409</td>\n",
       "      <td>NaN</td>\n",
       "      <td>41638.0</td>\n",
       "      <td>NaN</td>\n",
       "      <td>1377384.0</td>\n",
       "      <td>NaN</td>\n",
       "      <td>606387.0</td>\n",
       "      <td>8944.0</td>\n",
       "      <td>1466.0</td>\n",
       "      <td>30.0</td>\n",
       "      <td>22149351.0</td>\n",
       "      <td>16035.0</td>\n",
       "      <td>South-EastAsia</td>\n",
       "    </tr>\n",
       "    <tr>\n",
       "      <th>3</th>\n",
       "      <td>Russia</td>\n",
       "      <td>Europe</td>\n",
       "      <td>1.459409e+08</td>\n",
       "      <td>871894</td>\n",
       "      <td>NaN</td>\n",
       "      <td>14606.0</td>\n",
       "      <td>NaN</td>\n",
       "      <td>676357.0</td>\n",
       "      <td>NaN</td>\n",
       "      <td>180931.0</td>\n",
       "      <td>2300.0</td>\n",
       "      <td>5974.0</td>\n",
       "      <td>100.0</td>\n",
       "      <td>29716907.0</td>\n",
       "      <td>203623.0</td>\n",
       "      <td>Europe</td>\n",
       "    </tr>\n",
       "    <tr>\n",
       "      <th>4</th>\n",
       "      <td>South Africa</td>\n",
       "      <td>Africa</td>\n",
       "      <td>5.938157e+07</td>\n",
       "      <td>538184</td>\n",
       "      <td>NaN</td>\n",
       "      <td>9604.0</td>\n",
       "      <td>NaN</td>\n",
       "      <td>387316.0</td>\n",
       "      <td>NaN</td>\n",
       "      <td>141264.0</td>\n",
       "      <td>539.0</td>\n",
       "      <td>9063.0</td>\n",
       "      <td>162.0</td>\n",
       "      <td>3149807.0</td>\n",
       "      <td>53044.0</td>\n",
       "      <td>Africa</td>\n",
       "    </tr>\n",
       "  </tbody>\n",
       "</table>\n",
       "</div>"
      ],
      "text/plain": [
       "  Country/Region      Continent    Population  TotalCases  NewCases  \\\n",
       "0            USA  North America  3.311981e+08     5032179       NaN   \n",
       "1         Brazil  South America  2.127107e+08     2917562       NaN   \n",
       "2          India           Asia  1.381345e+09     2025409       NaN   \n",
       "3         Russia         Europe  1.459409e+08      871894       NaN   \n",
       "4   South Africa         Africa  5.938157e+07      538184       NaN   \n",
       "\n",
       "   TotalDeaths  NewDeaths  TotalRecovered  NewRecovered  ActiveCases  \\\n",
       "0     162804.0        NaN       2576668.0           NaN    2292707.0   \n",
       "1      98644.0        NaN       2047660.0           NaN     771258.0   \n",
       "2      41638.0        NaN       1377384.0           NaN     606387.0   \n",
       "3      14606.0        NaN        676357.0           NaN     180931.0   \n",
       "4       9604.0        NaN        387316.0           NaN     141264.0   \n",
       "\n",
       "   Serious,Critical  Tot Cases/1M pop  Deaths/1M pop  TotalTests  \\\n",
       "0           18296.0           15194.0          492.0  63139605.0   \n",
       "1            8318.0           13716.0          464.0  13206188.0   \n",
       "2            8944.0            1466.0           30.0  22149351.0   \n",
       "3            2300.0            5974.0          100.0  29716907.0   \n",
       "4             539.0            9063.0          162.0   3149807.0   \n",
       "\n",
       "   Tests/1M pop      WHO Region  \n",
       "0      190640.0        Americas  \n",
       "1       62085.0        Americas  \n",
       "2       16035.0  South-EastAsia  \n",
       "3      203623.0          Europe  \n",
       "4       53044.0          Africa  "
      ]
     },
     "execution_count": 36,
     "metadata": {},
     "output_type": "execute_result"
    }
   ],
   "source": [
    "df5 = pd.read_csv(\"worldometer_data.csv\")\n",
    "df5.head()"
   ]
  },
  {
   "cell_type": "code",
   "execution_count": 37,
   "id": "b8bdbd3f",
   "metadata": {
    "ExecuteTime": {
     "start_time": "2024-04-02T17:17:55.082706Z"
    },
    "scrolled": false
   },
   "outputs": [
    {
     "name": "stdout",
     "output_type": "stream",
     "text": [
      "<class 'pandas.core.frame.DataFrame'>\n",
      "RangeIndex: 209 entries, 0 to 208\n",
      "Data columns (total 16 columns):\n",
      " #   Column            Non-Null Count  Dtype  \n",
      "---  ------            --------------  -----  \n",
      " 0   Country/Region    209 non-null    object \n",
      " 1   Continent         208 non-null    object \n",
      " 2   Population        208 non-null    float64\n",
      " 3   TotalCases        209 non-null    int64  \n",
      " 4   NewCases          4 non-null      float64\n",
      " 5   TotalDeaths       188 non-null    float64\n",
      " 6   NewDeaths         3 non-null      float64\n",
      " 7   TotalRecovered    205 non-null    float64\n",
      " 8   NewRecovered      3 non-null      float64\n",
      " 9   ActiveCases       205 non-null    float64\n",
      " 10  Serious,Critical  122 non-null    float64\n",
      " 11  Tot Cases/1M pop  208 non-null    float64\n",
      " 12  Deaths/1M pop     187 non-null    float64\n",
      " 13  TotalTests        191 non-null    float64\n",
      " 14  Tests/1M pop      191 non-null    float64\n",
      " 15  WHO Region        184 non-null    object \n",
      "dtypes: float64(12), int64(1), object(3)\n",
      "memory usage: 26.2+ KB\n"
     ]
    }
   ],
   "source": [
    "df5.info()"
   ]
  },
  {
   "cell_type": "code",
   "execution_count": 38,
   "id": "53aebc7a",
   "metadata": {
    "ExecuteTime": {
     "start_time": "2024-04-02T17:17:55.083704Z"
    }
   },
   "outputs": [
    {
     "data": {
      "text/plain": [
       "Index(['Country/Region', 'Continent', 'Population', 'TotalCases', 'NewCases',\n",
       "       'TotalDeaths', 'NewDeaths', 'TotalRecovered', 'NewRecovered',\n",
       "       'ActiveCases', 'Serious,Critical', 'Tot Cases/1M pop', 'Deaths/1M pop',\n",
       "       'TotalTests', 'Tests/1M pop', 'WHO Region'],\n",
       "      dtype='object')"
      ]
     },
     "execution_count": 38,
     "metadata": {},
     "output_type": "execute_result"
    }
   ],
   "source": [
    "df5.columns"
   ]
  },
  {
   "cell_type": "code",
   "execution_count": 39,
   "id": "01fe7656",
   "metadata": {
    "ExecuteTime": {
     "start_time": "2024-04-02T17:17:55.084705Z"
    }
   },
   "outputs": [],
   "source": [
    "df5 = df5.drop(['NewCases' , 'NewDeaths' , 'NewRecovered'] , axis = 1)"
   ]
  },
  {
   "cell_type": "code",
   "execution_count": 40,
   "id": "cba031c0",
   "metadata": {
    "ExecuteTime": {
     "start_time": "2024-04-02T17:17:55.086702Z"
    }
   },
   "outputs": [
    {
     "data": {
      "text/html": [
       "<div>\n",
       "<style scoped>\n",
       "    .dataframe tbody tr th:only-of-type {\n",
       "        vertical-align: middle;\n",
       "    }\n",
       "\n",
       "    .dataframe tbody tr th {\n",
       "        vertical-align: top;\n",
       "    }\n",
       "\n",
       "    .dataframe thead th {\n",
       "        text-align: right;\n",
       "    }\n",
       "</style>\n",
       "<table border=\"1\" class=\"dataframe\">\n",
       "  <thead>\n",
       "    <tr style=\"text-align: right;\">\n",
       "      <th></th>\n",
       "      <th>Country/Region</th>\n",
       "      <th>Continent</th>\n",
       "      <th>Population</th>\n",
       "      <th>TotalCases</th>\n",
       "      <th>TotalDeaths</th>\n",
       "      <th>TotalRecovered</th>\n",
       "      <th>ActiveCases</th>\n",
       "      <th>Serious,Critical</th>\n",
       "      <th>Tot Cases/1M pop</th>\n",
       "      <th>Deaths/1M pop</th>\n",
       "      <th>TotalTests</th>\n",
       "      <th>Tests/1M pop</th>\n",
       "      <th>WHO Region</th>\n",
       "    </tr>\n",
       "  </thead>\n",
       "  <tbody>\n",
       "    <tr>\n",
       "      <th>0</th>\n",
       "      <td>USA</td>\n",
       "      <td>North America</td>\n",
       "      <td>3.311981e+08</td>\n",
       "      <td>5032179</td>\n",
       "      <td>162804.0</td>\n",
       "      <td>2576668.0</td>\n",
       "      <td>2292707.0</td>\n",
       "      <td>18296.0</td>\n",
       "      <td>15194.0</td>\n",
       "      <td>492.0</td>\n",
       "      <td>63139605.0</td>\n",
       "      <td>190640.0</td>\n",
       "      <td>Americas</td>\n",
       "    </tr>\n",
       "    <tr>\n",
       "      <th>1</th>\n",
       "      <td>Brazil</td>\n",
       "      <td>South America</td>\n",
       "      <td>2.127107e+08</td>\n",
       "      <td>2917562</td>\n",
       "      <td>98644.0</td>\n",
       "      <td>2047660.0</td>\n",
       "      <td>771258.0</td>\n",
       "      <td>8318.0</td>\n",
       "      <td>13716.0</td>\n",
       "      <td>464.0</td>\n",
       "      <td>13206188.0</td>\n",
       "      <td>62085.0</td>\n",
       "      <td>Americas</td>\n",
       "    </tr>\n",
       "    <tr>\n",
       "      <th>2</th>\n",
       "      <td>India</td>\n",
       "      <td>Asia</td>\n",
       "      <td>1.381345e+09</td>\n",
       "      <td>2025409</td>\n",
       "      <td>41638.0</td>\n",
       "      <td>1377384.0</td>\n",
       "      <td>606387.0</td>\n",
       "      <td>8944.0</td>\n",
       "      <td>1466.0</td>\n",
       "      <td>30.0</td>\n",
       "      <td>22149351.0</td>\n",
       "      <td>16035.0</td>\n",
       "      <td>South-EastAsia</td>\n",
       "    </tr>\n",
       "    <tr>\n",
       "      <th>3</th>\n",
       "      <td>Russia</td>\n",
       "      <td>Europe</td>\n",
       "      <td>1.459409e+08</td>\n",
       "      <td>871894</td>\n",
       "      <td>14606.0</td>\n",
       "      <td>676357.0</td>\n",
       "      <td>180931.0</td>\n",
       "      <td>2300.0</td>\n",
       "      <td>5974.0</td>\n",
       "      <td>100.0</td>\n",
       "      <td>29716907.0</td>\n",
       "      <td>203623.0</td>\n",
       "      <td>Europe</td>\n",
       "    </tr>\n",
       "    <tr>\n",
       "      <th>4</th>\n",
       "      <td>South Africa</td>\n",
       "      <td>Africa</td>\n",
       "      <td>5.938157e+07</td>\n",
       "      <td>538184</td>\n",
       "      <td>9604.0</td>\n",
       "      <td>387316.0</td>\n",
       "      <td>141264.0</td>\n",
       "      <td>539.0</td>\n",
       "      <td>9063.0</td>\n",
       "      <td>162.0</td>\n",
       "      <td>3149807.0</td>\n",
       "      <td>53044.0</td>\n",
       "      <td>Africa</td>\n",
       "    </tr>\n",
       "  </tbody>\n",
       "</table>\n",
       "</div>"
      ],
      "text/plain": [
       "  Country/Region      Continent    Population  TotalCases  TotalDeaths  \\\n",
       "0            USA  North America  3.311981e+08     5032179     162804.0   \n",
       "1         Brazil  South America  2.127107e+08     2917562      98644.0   \n",
       "2          India           Asia  1.381345e+09     2025409      41638.0   \n",
       "3         Russia         Europe  1.459409e+08      871894      14606.0   \n",
       "4   South Africa         Africa  5.938157e+07      538184       9604.0   \n",
       "\n",
       "   TotalRecovered  ActiveCases  Serious,Critical  Tot Cases/1M pop  \\\n",
       "0       2576668.0    2292707.0           18296.0           15194.0   \n",
       "1       2047660.0     771258.0            8318.0           13716.0   \n",
       "2       1377384.0     606387.0            8944.0            1466.0   \n",
       "3        676357.0     180931.0            2300.0            5974.0   \n",
       "4        387316.0     141264.0             539.0            9063.0   \n",
       "\n",
       "   Deaths/1M pop  TotalTests  Tests/1M pop      WHO Region  \n",
       "0          492.0  63139605.0      190640.0        Americas  \n",
       "1          464.0  13206188.0       62085.0        Americas  \n",
       "2           30.0  22149351.0       16035.0  South-EastAsia  \n",
       "3          100.0  29716907.0      203623.0          Europe  \n",
       "4          162.0   3149807.0       53044.0          Africa  "
      ]
     },
     "execution_count": 40,
     "metadata": {},
     "output_type": "execute_result"
    }
   ],
   "source": [
    "df5.head()"
   ]
  },
  {
   "cell_type": "code",
   "execution_count": 41,
   "id": "bb925ebf",
   "metadata": {
    "ExecuteTime": {
     "start_time": "2024-04-02T17:17:55.087703Z"
    }
   },
   "outputs": [
    {
     "data": {
      "text/html": [
       "<div>\n",
       "<style scoped>\n",
       "    .dataframe tbody tr th:only-of-type {\n",
       "        vertical-align: middle;\n",
       "    }\n",
       "\n",
       "    .dataframe tbody tr th {\n",
       "        vertical-align: top;\n",
       "    }\n",
       "\n",
       "    .dataframe thead th {\n",
       "        text-align: right;\n",
       "    }\n",
       "</style>\n",
       "<table border=\"1\" class=\"dataframe\">\n",
       "  <thead>\n",
       "    <tr style=\"text-align: right;\">\n",
       "      <th></th>\n",
       "      <th>Country/Region</th>\n",
       "      <th>ActiveCases</th>\n",
       "      <th>TotalCases</th>\n",
       "      <th>TotalDeaths</th>\n",
       "      <th>TotalRecovered</th>\n",
       "      <th>Tot Cases/1M pop</th>\n",
       "      <th>Deaths/1M pop</th>\n",
       "      <th>TotalTests</th>\n",
       "      <th>Deaths/1M pop</th>\n",
       "      <th>Tests/1M pop</th>\n",
       "    </tr>\n",
       "  </thead>\n",
       "  <tbody>\n",
       "    <tr>\n",
       "      <th>0</th>\n",
       "      <td>USA</td>\n",
       "      <td>2292707.0</td>\n",
       "      <td>5032179</td>\n",
       "      <td>162804.0</td>\n",
       "      <td>2576668.0</td>\n",
       "      <td>15194.0</td>\n",
       "      <td>492.0</td>\n",
       "      <td>63139605.0</td>\n",
       "      <td>492.0</td>\n",
       "      <td>190640.0</td>\n",
       "    </tr>\n",
       "    <tr>\n",
       "      <th>1</th>\n",
       "      <td>Brazil</td>\n",
       "      <td>771258.0</td>\n",
       "      <td>2917562</td>\n",
       "      <td>98644.0</td>\n",
       "      <td>2047660.0</td>\n",
       "      <td>13716.0</td>\n",
       "      <td>464.0</td>\n",
       "      <td>13206188.0</td>\n",
       "      <td>464.0</td>\n",
       "      <td>62085.0</td>\n",
       "    </tr>\n",
       "    <tr>\n",
       "      <th>2</th>\n",
       "      <td>India</td>\n",
       "      <td>606387.0</td>\n",
       "      <td>2025409</td>\n",
       "      <td>41638.0</td>\n",
       "      <td>1377384.0</td>\n",
       "      <td>1466.0</td>\n",
       "      <td>30.0</td>\n",
       "      <td>22149351.0</td>\n",
       "      <td>30.0</td>\n",
       "      <td>16035.0</td>\n",
       "    </tr>\n",
       "    <tr>\n",
       "      <th>3</th>\n",
       "      <td>Russia</td>\n",
       "      <td>180931.0</td>\n",
       "      <td>871894</td>\n",
       "      <td>14606.0</td>\n",
       "      <td>676357.0</td>\n",
       "      <td>5974.0</td>\n",
       "      <td>100.0</td>\n",
       "      <td>29716907.0</td>\n",
       "      <td>100.0</td>\n",
       "      <td>203623.0</td>\n",
       "    </tr>\n",
       "    <tr>\n",
       "      <th>4</th>\n",
       "      <td>South Africa</td>\n",
       "      <td>141264.0</td>\n",
       "      <td>538184</td>\n",
       "      <td>9604.0</td>\n",
       "      <td>387316.0</td>\n",
       "      <td>9063.0</td>\n",
       "      <td>162.0</td>\n",
       "      <td>3149807.0</td>\n",
       "      <td>162.0</td>\n",
       "      <td>53044.0</td>\n",
       "    </tr>\n",
       "  </tbody>\n",
       "</table>\n",
       "</div>"
      ],
      "text/plain": [
       "  Country/Region  ActiveCases  TotalCases  TotalDeaths  TotalRecovered  \\\n",
       "0            USA    2292707.0     5032179     162804.0       2576668.0   \n",
       "1         Brazil     771258.0     2917562      98644.0       2047660.0   \n",
       "2          India     606387.0     2025409      41638.0       1377384.0   \n",
       "3         Russia     180931.0      871894      14606.0        676357.0   \n",
       "4   South Africa     141264.0      538184       9604.0        387316.0   \n",
       "\n",
       "   Tot Cases/1M pop  Deaths/1M pop  TotalTests  Deaths/1M pop  Tests/1M pop  \n",
       "0           15194.0          492.0  63139605.0          492.0      190640.0  \n",
       "1           13716.0          464.0  13206188.0          464.0       62085.0  \n",
       "2            1466.0           30.0  22149351.0           30.0       16035.0  \n",
       "3            5974.0          100.0  29716907.0          100.0      203623.0  \n",
       "4            9063.0          162.0   3149807.0          162.0       53044.0  "
      ]
     },
     "execution_count": 41,
     "metadata": {},
     "output_type": "execute_result"
    }
   ],
   "source": [
    "data = df5[['Country/Region' , 'ActiveCases' ,'TotalCases' ,'TotalDeaths','TotalRecovered','Tot Cases/1M pop' , 'Deaths/1M pop' , 'TotalTests' ,'Deaths/1M pop','Tests/1M pop']]\n",
    "data.head()"
   ]
  },
  {
   "cell_type": "code",
   "execution_count": 42,
   "id": "6a9ae8d7",
   "metadata": {
    "ExecuteTime": {
     "start_time": "2024-04-02T17:17:55.088701Z"
    }
   },
   "outputs": [],
   "source": [
    "import plotly.express as px"
   ]
  },
  {
   "cell_type": "code",
   "execution_count": 45,
   "id": "d25ce930",
   "metadata": {
    "ExecuteTime": {
     "start_time": "2024-04-02T17:17:55.089730Z"
    }
   },
   "outputs": [
    {
     "data": {
      "application/vnd.plotly.v1+json": {
       "config": {
        "plotlyServerURL": "https://plot.ly"
       },
       "data": [
        {
         "branchvalues": "total",
         "customdata": [
          [
           228195,
           4251,
           99852,
           124092
          ],
          [
           249651,
           3306,
           143824,
           102521
          ],
          [
           71158,
           9859,
           17661,
           43638
          ],
          [
           86423,
           3465,
           27373,
           55585
          ],
          [
           2917562,
           98644,
           2047660,
           771258
          ],
          [
           357710,
           11939,
           192355,
           153416
          ],
          [
           76536,
           1246,
           40539,
           34751
          ],
          [
           95006,
           4951,
           48898,
           41157
          ],
          [
           195633,
           30312,
           82460,
           82861
          ],
          [
           45098,
           1423,
           6116,
           37559
          ],
          [
           2025409,
           41638,
           1377384,
           606387
          ],
          [
           118753,
           5521,
           75645,
           37587
          ],
          [
           140603,
           5161,
           101025,
           34417
          ],
          [
           462690,
           50517,
           308848,
           103325
          ],
          [
           455409,
           20424,
           310337,
           124648
          ],
          [
           119460,
           2150,
           66837,
           50473
          ],
          [
           871894,
           14606,
           676357,
           180931
          ],
          [
           284226,
           3055,
           247089,
           34082
          ],
          [
           538184,
           9604,
           387316,
           141264
          ],
          [
           5032179,
           162804,
           2576668,
           2292707
          ]
         ],
         "domain": {
          "x": [
           0,
           1
          ],
          "y": [
           0,
           1
          ]
         },
         "hovertemplate": "labels=%{label}<br>ActiveCases_sum=%{value}<br>parent=%{parent}<br>id=%{id}<br>TotalCases=%{customdata[0]}<br>TotalDeaths=%{customdata[1]}<br>TotalRecovered=%{customdata[2]}<br>Active Cases=%{color}<extra></extra>",
         "ids": [
          "Argentina",
          "Bangladesh",
          "Belgium",
          "Bolivia",
          "Brazil",
          "Colombia",
          "Dominican Republic",
          "Egypt",
          "France",
          "Honduras",
          "India",
          "Indonesia",
          "Iraq",
          "Mexico",
          "Peru",
          "Philippines",
          "Russia",
          "Saudi Arabia",
          "South Africa",
          "USA"
         ],
         "labels": [
          "Argentina",
          "Bangladesh",
          "Belgium",
          "Bolivia",
          "Brazil",
          "Colombia",
          "Dominican Republic",
          "Egypt",
          "France",
          "Honduras",
          "India",
          "Indonesia",
          "Iraq",
          "Mexico",
          "Peru",
          "Philippines",
          "Russia",
          "Saudi Arabia",
          "South Africa",
          "USA"
         ],
         "marker": {
          "coloraxis": "coloraxis",
          "colors": [
           124092,
           102521,
           43638,
           55585,
           771258,
           153416,
           34751,
           41157,
           82861,
           37559,
           606387,
           37587,
           34417,
           103325,
           124648,
           50473,
           180931,
           34082,
           141264,
           2292707
          ]
         },
         "name": "",
         "parents": [
          "",
          "",
          "",
          "",
          "",
          "",
          "",
          "",
          "",
          "",
          "",
          "",
          "",
          "",
          "",
          "",
          "",
          "",
          "",
          ""
         ],
         "type": "treemap",
         "values": [
          124092,
          102521,
          43638,
          55585,
          771258,
          153416,
          34751,
          41157,
          82861,
          37559,
          606387,
          37587,
          34417,
          103325,
          124648,
          50473,
          180931,
          34082,
          141264,
          2292707
         ]
        }
       ],
       "layout": {
        "coloraxis": {
         "colorbar": {
          "title": {
           "text": "Active Cases"
          }
         },
         "colorscale": [
          [
           0,
           "#440154"
          ],
          [
           0.1111111111111111,
           "#482878"
          ],
          [
           0.2222222222222222,
           "#3e4989"
          ],
          [
           0.3333333333333333,
           "#31688e"
          ],
          [
           0.4444444444444444,
           "#26828e"
          ],
          [
           0.5555555555555556,
           "#1f9e89"
          ],
          [
           0.6666666666666666,
           "#35b779"
          ],
          [
           0.7777777777777778,
           "#6ece58"
          ],
          [
           0.8888888888888888,
           "#b5de2b"
          ],
          [
           1,
           "#fde725"
          ]
         ]
        },
        "height": 600,
        "legend": {
         "tracegroupgap": 0
        },
        "template": {
         "data": {
          "bar": [
           {
            "error_x": {
             "color": "#2a3f5f"
            },
            "error_y": {
             "color": "#2a3f5f"
            },
            "marker": {
             "line": {
              "color": "#E5ECF6",
              "width": 0.5
             },
             "pattern": {
              "fillmode": "overlay",
              "size": 10,
              "solidity": 0.2
             }
            },
            "type": "bar"
           }
          ],
          "barpolar": [
           {
            "marker": {
             "line": {
              "color": "#E5ECF6",
              "width": 0.5
             },
             "pattern": {
              "fillmode": "overlay",
              "size": 10,
              "solidity": 0.2
             }
            },
            "type": "barpolar"
           }
          ],
          "carpet": [
           {
            "aaxis": {
             "endlinecolor": "#2a3f5f",
             "gridcolor": "white",
             "linecolor": "white",
             "minorgridcolor": "white",
             "startlinecolor": "#2a3f5f"
            },
            "baxis": {
             "endlinecolor": "#2a3f5f",
             "gridcolor": "white",
             "linecolor": "white",
             "minorgridcolor": "white",
             "startlinecolor": "#2a3f5f"
            },
            "type": "carpet"
           }
          ],
          "choropleth": [
           {
            "colorbar": {
             "outlinewidth": 0,
             "ticks": ""
            },
            "type": "choropleth"
           }
          ],
          "contour": [
           {
            "colorbar": {
             "outlinewidth": 0,
             "ticks": ""
            },
            "colorscale": [
             [
              0,
              "#0d0887"
             ],
             [
              0.1111111111111111,
              "#46039f"
             ],
             [
              0.2222222222222222,
              "#7201a8"
             ],
             [
              0.3333333333333333,
              "#9c179e"
             ],
             [
              0.4444444444444444,
              "#bd3786"
             ],
             [
              0.5555555555555556,
              "#d8576b"
             ],
             [
              0.6666666666666666,
              "#ed7953"
             ],
             [
              0.7777777777777778,
              "#fb9f3a"
             ],
             [
              0.8888888888888888,
              "#fdca26"
             ],
             [
              1,
              "#f0f921"
             ]
            ],
            "type": "contour"
           }
          ],
          "contourcarpet": [
           {
            "colorbar": {
             "outlinewidth": 0,
             "ticks": ""
            },
            "type": "contourcarpet"
           }
          ],
          "heatmap": [
           {
            "colorbar": {
             "outlinewidth": 0,
             "ticks": ""
            },
            "colorscale": [
             [
              0,
              "#0d0887"
             ],
             [
              0.1111111111111111,
              "#46039f"
             ],
             [
              0.2222222222222222,
              "#7201a8"
             ],
             [
              0.3333333333333333,
              "#9c179e"
             ],
             [
              0.4444444444444444,
              "#bd3786"
             ],
             [
              0.5555555555555556,
              "#d8576b"
             ],
             [
              0.6666666666666666,
              "#ed7953"
             ],
             [
              0.7777777777777778,
              "#fb9f3a"
             ],
             [
              0.8888888888888888,
              "#fdca26"
             ],
             [
              1,
              "#f0f921"
             ]
            ],
            "type": "heatmap"
           }
          ],
          "heatmapgl": [
           {
            "colorbar": {
             "outlinewidth": 0,
             "ticks": ""
            },
            "colorscale": [
             [
              0,
              "#0d0887"
             ],
             [
              0.1111111111111111,
              "#46039f"
             ],
             [
              0.2222222222222222,
              "#7201a8"
             ],
             [
              0.3333333333333333,
              "#9c179e"
             ],
             [
              0.4444444444444444,
              "#bd3786"
             ],
             [
              0.5555555555555556,
              "#d8576b"
             ],
             [
              0.6666666666666666,
              "#ed7953"
             ],
             [
              0.7777777777777778,
              "#fb9f3a"
             ],
             [
              0.8888888888888888,
              "#fdca26"
             ],
             [
              1,
              "#f0f921"
             ]
            ],
            "type": "heatmapgl"
           }
          ],
          "histogram": [
           {
            "marker": {
             "pattern": {
              "fillmode": "overlay",
              "size": 10,
              "solidity": 0.2
             }
            },
            "type": "histogram"
           }
          ],
          "histogram2d": [
           {
            "colorbar": {
             "outlinewidth": 0,
             "ticks": ""
            },
            "colorscale": [
             [
              0,
              "#0d0887"
             ],
             [
              0.1111111111111111,
              "#46039f"
             ],
             [
              0.2222222222222222,
              "#7201a8"
             ],
             [
              0.3333333333333333,
              "#9c179e"
             ],
             [
              0.4444444444444444,
              "#bd3786"
             ],
             [
              0.5555555555555556,
              "#d8576b"
             ],
             [
              0.6666666666666666,
              "#ed7953"
             ],
             [
              0.7777777777777778,
              "#fb9f3a"
             ],
             [
              0.8888888888888888,
              "#fdca26"
             ],
             [
              1,
              "#f0f921"
             ]
            ],
            "type": "histogram2d"
           }
          ],
          "histogram2dcontour": [
           {
            "colorbar": {
             "outlinewidth": 0,
             "ticks": ""
            },
            "colorscale": [
             [
              0,
              "#0d0887"
             ],
             [
              0.1111111111111111,
              "#46039f"
             ],
             [
              0.2222222222222222,
              "#7201a8"
             ],
             [
              0.3333333333333333,
              "#9c179e"
             ],
             [
              0.4444444444444444,
              "#bd3786"
             ],
             [
              0.5555555555555556,
              "#d8576b"
             ],
             [
              0.6666666666666666,
              "#ed7953"
             ],
             [
              0.7777777777777778,
              "#fb9f3a"
             ],
             [
              0.8888888888888888,
              "#fdca26"
             ],
             [
              1,
              "#f0f921"
             ]
            ],
            "type": "histogram2dcontour"
           }
          ],
          "mesh3d": [
           {
            "colorbar": {
             "outlinewidth": 0,
             "ticks": ""
            },
            "type": "mesh3d"
           }
          ],
          "parcoords": [
           {
            "line": {
             "colorbar": {
              "outlinewidth": 0,
              "ticks": ""
             }
            },
            "type": "parcoords"
           }
          ],
          "pie": [
           {
            "automargin": true,
            "type": "pie"
           }
          ],
          "scatter": [
           {
            "fillpattern": {
             "fillmode": "overlay",
             "size": 10,
             "solidity": 0.2
            },
            "type": "scatter"
           }
          ],
          "scatter3d": [
           {
            "line": {
             "colorbar": {
              "outlinewidth": 0,
              "ticks": ""
             }
            },
            "marker": {
             "colorbar": {
              "outlinewidth": 0,
              "ticks": ""
             }
            },
            "type": "scatter3d"
           }
          ],
          "scattercarpet": [
           {
            "marker": {
             "colorbar": {
              "outlinewidth": 0,
              "ticks": ""
             }
            },
            "type": "scattercarpet"
           }
          ],
          "scattergeo": [
           {
            "marker": {
             "colorbar": {
              "outlinewidth": 0,
              "ticks": ""
             }
            },
            "type": "scattergeo"
           }
          ],
          "scattergl": [
           {
            "marker": {
             "colorbar": {
              "outlinewidth": 0,
              "ticks": ""
             }
            },
            "type": "scattergl"
           }
          ],
          "scattermapbox": [
           {
            "marker": {
             "colorbar": {
              "outlinewidth": 0,
              "ticks": ""
             }
            },
            "type": "scattermapbox"
           }
          ],
          "scatterpolar": [
           {
            "marker": {
             "colorbar": {
              "outlinewidth": 0,
              "ticks": ""
             }
            },
            "type": "scatterpolar"
           }
          ],
          "scatterpolargl": [
           {
            "marker": {
             "colorbar": {
              "outlinewidth": 0,
              "ticks": ""
             }
            },
            "type": "scatterpolargl"
           }
          ],
          "scatterternary": [
           {
            "marker": {
             "colorbar": {
              "outlinewidth": 0,
              "ticks": ""
             }
            },
            "type": "scatterternary"
           }
          ],
          "surface": [
           {
            "colorbar": {
             "outlinewidth": 0,
             "ticks": ""
            },
            "colorscale": [
             [
              0,
              "#0d0887"
             ],
             [
              0.1111111111111111,
              "#46039f"
             ],
             [
              0.2222222222222222,
              "#7201a8"
             ],
             [
              0.3333333333333333,
              "#9c179e"
             ],
             [
              0.4444444444444444,
              "#bd3786"
             ],
             [
              0.5555555555555556,
              "#d8576b"
             ],
             [
              0.6666666666666666,
              "#ed7953"
             ],
             [
              0.7777777777777778,
              "#fb9f3a"
             ],
             [
              0.8888888888888888,
              "#fdca26"
             ],
             [
              1,
              "#f0f921"
             ]
            ],
            "type": "surface"
           }
          ],
          "table": [
           {
            "cells": {
             "fill": {
              "color": "#EBF0F8"
             },
             "line": {
              "color": "white"
             }
            },
            "header": {
             "fill": {
              "color": "#C8D4E3"
             },
             "line": {
              "color": "white"
             }
            },
            "type": "table"
           }
          ]
         },
         "layout": {
          "annotationdefaults": {
           "arrowcolor": "#2a3f5f",
           "arrowhead": 0,
           "arrowwidth": 1
          },
          "autotypenumbers": "strict",
          "coloraxis": {
           "colorbar": {
            "outlinewidth": 0,
            "ticks": ""
           }
          },
          "colorscale": {
           "diverging": [
            [
             0,
             "#8e0152"
            ],
            [
             0.1,
             "#c51b7d"
            ],
            [
             0.2,
             "#de77ae"
            ],
            [
             0.3,
             "#f1b6da"
            ],
            [
             0.4,
             "#fde0ef"
            ],
            [
             0.5,
             "#f7f7f7"
            ],
            [
             0.6,
             "#e6f5d0"
            ],
            [
             0.7,
             "#b8e186"
            ],
            [
             0.8,
             "#7fbc41"
            ],
            [
             0.9,
             "#4d9221"
            ],
            [
             1,
             "#276419"
            ]
           ],
           "sequential": [
            [
             0,
             "#0d0887"
            ],
            [
             0.1111111111111111,
             "#46039f"
            ],
            [
             0.2222222222222222,
             "#7201a8"
            ],
            [
             0.3333333333333333,
             "#9c179e"
            ],
            [
             0.4444444444444444,
             "#bd3786"
            ],
            [
             0.5555555555555556,
             "#d8576b"
            ],
            [
             0.6666666666666666,
             "#ed7953"
            ],
            [
             0.7777777777777778,
             "#fb9f3a"
            ],
            [
             0.8888888888888888,
             "#fdca26"
            ],
            [
             1,
             "#f0f921"
            ]
           ],
           "sequentialminus": [
            [
             0,
             "#0d0887"
            ],
            [
             0.1111111111111111,
             "#46039f"
            ],
            [
             0.2222222222222222,
             "#7201a8"
            ],
            [
             0.3333333333333333,
             "#9c179e"
            ],
            [
             0.4444444444444444,
             "#bd3786"
            ],
            [
             0.5555555555555556,
             "#d8576b"
            ],
            [
             0.6666666666666666,
             "#ed7953"
            ],
            [
             0.7777777777777778,
             "#fb9f3a"
            ],
            [
             0.8888888888888888,
             "#fdca26"
            ],
            [
             1,
             "#f0f921"
            ]
           ]
          },
          "colorway": [
           "#636efa",
           "#EF553B",
           "#00cc96",
           "#ab63fa",
           "#FFA15A",
           "#19d3f3",
           "#FF6692",
           "#B6E880",
           "#FF97FF",
           "#FECB52"
          ],
          "font": {
           "color": "#2a3f5f"
          },
          "geo": {
           "bgcolor": "white",
           "lakecolor": "white",
           "landcolor": "#E5ECF6",
           "showlakes": true,
           "showland": true,
           "subunitcolor": "white"
          },
          "hoverlabel": {
           "align": "left"
          },
          "hovermode": "closest",
          "mapbox": {
           "style": "light"
          },
          "paper_bgcolor": "white",
          "plot_bgcolor": "#E5ECF6",
          "polar": {
           "angularaxis": {
            "gridcolor": "white",
            "linecolor": "white",
            "ticks": ""
           },
           "bgcolor": "#E5ECF6",
           "radialaxis": {
            "gridcolor": "white",
            "linecolor": "white",
            "ticks": ""
           }
          },
          "scene": {
           "xaxis": {
            "backgroundcolor": "#E5ECF6",
            "gridcolor": "white",
            "gridwidth": 2,
            "linecolor": "white",
            "showbackground": true,
            "ticks": "",
            "zerolinecolor": "white"
           },
           "yaxis": {
            "backgroundcolor": "#E5ECF6",
            "gridcolor": "white",
            "gridwidth": 2,
            "linecolor": "white",
            "showbackground": true,
            "ticks": "",
            "zerolinecolor": "white"
           },
           "zaxis": {
            "backgroundcolor": "#E5ECF6",
            "gridcolor": "white",
            "gridwidth": 2,
            "linecolor": "white",
            "showbackground": true,
            "ticks": "",
            "zerolinecolor": "white"
           }
          },
          "shapedefaults": {
           "line": {
            "color": "#2a3f5f"
           }
          },
          "ternary": {
           "aaxis": {
            "gridcolor": "white",
            "linecolor": "white",
            "ticks": ""
           },
           "baxis": {
            "gridcolor": "white",
            "linecolor": "white",
            "ticks": ""
           },
           "bgcolor": "#E5ECF6",
           "caxis": {
            "gridcolor": "white",
            "linecolor": "white",
            "ticks": ""
           }
          },
          "title": {
           "x": 0.05
          },
          "xaxis": {
           "automargin": true,
           "gridcolor": "white",
           "linecolor": "white",
           "ticks": "",
           "title": {
            "standoff": 15
           },
           "zerolinecolor": "white",
           "zerolinewidth": 2
          },
          "yaxis": {
           "automargin": true,
           "gridcolor": "white",
           "linecolor": "white",
           "ticks": "",
           "title": {
            "standoff": 15
           },
           "zerolinecolor": "white",
           "zerolinewidth": 2
          }
         }
        },
        "title": {
         "text": "Top Countries with Highest Active Cases"
        },
        "width": 800
       }
      },
      "text/html": [
       "<div>                            <div id=\"ecdf6685-3949-4e76-8820-814e078879e8\" class=\"plotly-graph-div\" style=\"height:600px; width:800px;\"></div>            <script type=\"text/javascript\">                require([\"plotly\"], function(Plotly) {                    window.PLOTLYENV=window.PLOTLYENV || {};                                    if (document.getElementById(\"ecdf6685-3949-4e76-8820-814e078879e8\")) {                    Plotly.newPlot(                        \"ecdf6685-3949-4e76-8820-814e078879e8\",                        [{\"branchvalues\":\"total\",\"customdata\":[[228195.0,4251.0,99852.0,124092.0],[249651.0,3306.0,143824.0,102521.0],[71158.0,9859.0,17661.0,43638.0],[86423.0,3465.0,27373.0,55585.0],[2917562.0,98644.0,2047660.0,771258.0],[357710.0,11939.0,192355.0,153416.0],[76536.0,1246.0,40539.0,34751.0],[95006.0,4951.0,48898.0,41157.0],[195633.0,30312.0,82460.0,82861.0],[45098.0,1423.0,6116.0,37559.0],[2025409.0,41638.0,1377384.0,606387.0],[118753.0,5521.0,75645.0,37587.0],[140603.0,5161.0,101025.0,34417.0],[462690.0,50517.0,308848.0,103325.0],[455409.0,20424.0,310337.0,124648.0],[119460.0,2150.0,66837.0,50473.0],[871894.0,14606.0,676357.0,180931.0],[284226.0,3055.0,247089.0,34082.0],[538184.0,9604.0,387316.0,141264.0],[5032179.0,162804.0,2576668.0,2292707.0]],\"domain\":{\"x\":[0.0,1.0],\"y\":[0.0,1.0]},\"hovertemplate\":\"labels=%{label}<br>ActiveCases_sum=%{value}<br>parent=%{parent}<br>id=%{id}<br>TotalCases=%{customdata[0]}<br>TotalDeaths=%{customdata[1]}<br>TotalRecovered=%{customdata[2]}<br>Active Cases=%{color}<extra></extra>\",\"ids\":[\"Argentina\",\"Bangladesh\",\"Belgium\",\"Bolivia\",\"Brazil\",\"Colombia\",\"Dominican Republic\",\"Egypt\",\"France\",\"Honduras\",\"India\",\"Indonesia\",\"Iraq\",\"Mexico\",\"Peru\",\"Philippines\",\"Russia\",\"Saudi Arabia\",\"South Africa\",\"USA\"],\"labels\":[\"Argentina\",\"Bangladesh\",\"Belgium\",\"Bolivia\",\"Brazil\",\"Colombia\",\"Dominican Republic\",\"Egypt\",\"France\",\"Honduras\",\"India\",\"Indonesia\",\"Iraq\",\"Mexico\",\"Peru\",\"Philippines\",\"Russia\",\"Saudi Arabia\",\"South Africa\",\"USA\"],\"marker\":{\"coloraxis\":\"coloraxis\",\"colors\":[124092.0,102521.0,43638.0,55585.0,771258.0,153416.0,34751.0,41157.0,82861.0,37559.0,606387.0,37587.0,34417.0,103325.0,124648.0,50473.0,180931.0,34082.0,141264.0,2292707.0]},\"name\":\"\",\"parents\":[\"\",\"\",\"\",\"\",\"\",\"\",\"\",\"\",\"\",\"\",\"\",\"\",\"\",\"\",\"\",\"\",\"\",\"\",\"\",\"\"],\"values\":[124092.0,102521.0,43638.0,55585.0,771258.0,153416.0,34751.0,41157.0,82861.0,37559.0,606387.0,37587.0,34417.0,103325.0,124648.0,50473.0,180931.0,34082.0,141264.0,2292707.0],\"type\":\"treemap\"}],                        {\"template\":{\"data\":{\"histogram2dcontour\":[{\"type\":\"histogram2dcontour\",\"colorbar\":{\"outlinewidth\":0,\"ticks\":\"\"},\"colorscale\":[[0.0,\"#0d0887\"],[0.1111111111111111,\"#46039f\"],[0.2222222222222222,\"#7201a8\"],[0.3333333333333333,\"#9c179e\"],[0.4444444444444444,\"#bd3786\"],[0.5555555555555556,\"#d8576b\"],[0.6666666666666666,\"#ed7953\"],[0.7777777777777778,\"#fb9f3a\"],[0.8888888888888888,\"#fdca26\"],[1.0,\"#f0f921\"]]}],\"choropleth\":[{\"type\":\"choropleth\",\"colorbar\":{\"outlinewidth\":0,\"ticks\":\"\"}}],\"histogram2d\":[{\"type\":\"histogram2d\",\"colorbar\":{\"outlinewidth\":0,\"ticks\":\"\"},\"colorscale\":[[0.0,\"#0d0887\"],[0.1111111111111111,\"#46039f\"],[0.2222222222222222,\"#7201a8\"],[0.3333333333333333,\"#9c179e\"],[0.4444444444444444,\"#bd3786\"],[0.5555555555555556,\"#d8576b\"],[0.6666666666666666,\"#ed7953\"],[0.7777777777777778,\"#fb9f3a\"],[0.8888888888888888,\"#fdca26\"],[1.0,\"#f0f921\"]]}],\"heatmap\":[{\"type\":\"heatmap\",\"colorbar\":{\"outlinewidth\":0,\"ticks\":\"\"},\"colorscale\":[[0.0,\"#0d0887\"],[0.1111111111111111,\"#46039f\"],[0.2222222222222222,\"#7201a8\"],[0.3333333333333333,\"#9c179e\"],[0.4444444444444444,\"#bd3786\"],[0.5555555555555556,\"#d8576b\"],[0.6666666666666666,\"#ed7953\"],[0.7777777777777778,\"#fb9f3a\"],[0.8888888888888888,\"#fdca26\"],[1.0,\"#f0f921\"]]}],\"heatmapgl\":[{\"type\":\"heatmapgl\",\"colorbar\":{\"outlinewidth\":0,\"ticks\":\"\"},\"colorscale\":[[0.0,\"#0d0887\"],[0.1111111111111111,\"#46039f\"],[0.2222222222222222,\"#7201a8\"],[0.3333333333333333,\"#9c179e\"],[0.4444444444444444,\"#bd3786\"],[0.5555555555555556,\"#d8576b\"],[0.6666666666666666,\"#ed7953\"],[0.7777777777777778,\"#fb9f3a\"],[0.8888888888888888,\"#fdca26\"],[1.0,\"#f0f921\"]]}],\"contourcarpet\":[{\"type\":\"contourcarpet\",\"colorbar\":{\"outlinewidth\":0,\"ticks\":\"\"}}],\"contour\":[{\"type\":\"contour\",\"colorbar\":{\"outlinewidth\":0,\"ticks\":\"\"},\"colorscale\":[[0.0,\"#0d0887\"],[0.1111111111111111,\"#46039f\"],[0.2222222222222222,\"#7201a8\"],[0.3333333333333333,\"#9c179e\"],[0.4444444444444444,\"#bd3786\"],[0.5555555555555556,\"#d8576b\"],[0.6666666666666666,\"#ed7953\"],[0.7777777777777778,\"#fb9f3a\"],[0.8888888888888888,\"#fdca26\"],[1.0,\"#f0f921\"]]}],\"surface\":[{\"type\":\"surface\",\"colorbar\":{\"outlinewidth\":0,\"ticks\":\"\"},\"colorscale\":[[0.0,\"#0d0887\"],[0.1111111111111111,\"#46039f\"],[0.2222222222222222,\"#7201a8\"],[0.3333333333333333,\"#9c179e\"],[0.4444444444444444,\"#bd3786\"],[0.5555555555555556,\"#d8576b\"],[0.6666666666666666,\"#ed7953\"],[0.7777777777777778,\"#fb9f3a\"],[0.8888888888888888,\"#fdca26\"],[1.0,\"#f0f921\"]]}],\"mesh3d\":[{\"type\":\"mesh3d\",\"colorbar\":{\"outlinewidth\":0,\"ticks\":\"\"}}],\"scatter\":[{\"fillpattern\":{\"fillmode\":\"overlay\",\"size\":10,\"solidity\":0.2},\"type\":\"scatter\"}],\"parcoords\":[{\"type\":\"parcoords\",\"line\":{\"colorbar\":{\"outlinewidth\":0,\"ticks\":\"\"}}}],\"scatterpolargl\":[{\"type\":\"scatterpolargl\",\"marker\":{\"colorbar\":{\"outlinewidth\":0,\"ticks\":\"\"}}}],\"bar\":[{\"error_x\":{\"color\":\"#2a3f5f\"},\"error_y\":{\"color\":\"#2a3f5f\"},\"marker\":{\"line\":{\"color\":\"#E5ECF6\",\"width\":0.5},\"pattern\":{\"fillmode\":\"overlay\",\"size\":10,\"solidity\":0.2}},\"type\":\"bar\"}],\"scattergeo\":[{\"type\":\"scattergeo\",\"marker\":{\"colorbar\":{\"outlinewidth\":0,\"ticks\":\"\"}}}],\"scatterpolar\":[{\"type\":\"scatterpolar\",\"marker\":{\"colorbar\":{\"outlinewidth\":0,\"ticks\":\"\"}}}],\"histogram\":[{\"marker\":{\"pattern\":{\"fillmode\":\"overlay\",\"size\":10,\"solidity\":0.2}},\"type\":\"histogram\"}],\"scattergl\":[{\"type\":\"scattergl\",\"marker\":{\"colorbar\":{\"outlinewidth\":0,\"ticks\":\"\"}}}],\"scatter3d\":[{\"type\":\"scatter3d\",\"line\":{\"colorbar\":{\"outlinewidth\":0,\"ticks\":\"\"}},\"marker\":{\"colorbar\":{\"outlinewidth\":0,\"ticks\":\"\"}}}],\"scattermapbox\":[{\"type\":\"scattermapbox\",\"marker\":{\"colorbar\":{\"outlinewidth\":0,\"ticks\":\"\"}}}],\"scatterternary\":[{\"type\":\"scatterternary\",\"marker\":{\"colorbar\":{\"outlinewidth\":0,\"ticks\":\"\"}}}],\"scattercarpet\":[{\"type\":\"scattercarpet\",\"marker\":{\"colorbar\":{\"outlinewidth\":0,\"ticks\":\"\"}}}],\"carpet\":[{\"aaxis\":{\"endlinecolor\":\"#2a3f5f\",\"gridcolor\":\"white\",\"linecolor\":\"white\",\"minorgridcolor\":\"white\",\"startlinecolor\":\"#2a3f5f\"},\"baxis\":{\"endlinecolor\":\"#2a3f5f\",\"gridcolor\":\"white\",\"linecolor\":\"white\",\"minorgridcolor\":\"white\",\"startlinecolor\":\"#2a3f5f\"},\"type\":\"carpet\"}],\"table\":[{\"cells\":{\"fill\":{\"color\":\"#EBF0F8\"},\"line\":{\"color\":\"white\"}},\"header\":{\"fill\":{\"color\":\"#C8D4E3\"},\"line\":{\"color\":\"white\"}},\"type\":\"table\"}],\"barpolar\":[{\"marker\":{\"line\":{\"color\":\"#E5ECF6\",\"width\":0.5},\"pattern\":{\"fillmode\":\"overlay\",\"size\":10,\"solidity\":0.2}},\"type\":\"barpolar\"}],\"pie\":[{\"automargin\":true,\"type\":\"pie\"}]},\"layout\":{\"autotypenumbers\":\"strict\",\"colorway\":[\"#636efa\",\"#EF553B\",\"#00cc96\",\"#ab63fa\",\"#FFA15A\",\"#19d3f3\",\"#FF6692\",\"#B6E880\",\"#FF97FF\",\"#FECB52\"],\"font\":{\"color\":\"#2a3f5f\"},\"hovermode\":\"closest\",\"hoverlabel\":{\"align\":\"left\"},\"paper_bgcolor\":\"white\",\"plot_bgcolor\":\"#E5ECF6\",\"polar\":{\"bgcolor\":\"#E5ECF6\",\"angularaxis\":{\"gridcolor\":\"white\",\"linecolor\":\"white\",\"ticks\":\"\"},\"radialaxis\":{\"gridcolor\":\"white\",\"linecolor\":\"white\",\"ticks\":\"\"}},\"ternary\":{\"bgcolor\":\"#E5ECF6\",\"aaxis\":{\"gridcolor\":\"white\",\"linecolor\":\"white\",\"ticks\":\"\"},\"baxis\":{\"gridcolor\":\"white\",\"linecolor\":\"white\",\"ticks\":\"\"},\"caxis\":{\"gridcolor\":\"white\",\"linecolor\":\"white\",\"ticks\":\"\"}},\"coloraxis\":{\"colorbar\":{\"outlinewidth\":0,\"ticks\":\"\"}},\"colorscale\":{\"sequential\":[[0.0,\"#0d0887\"],[0.1111111111111111,\"#46039f\"],[0.2222222222222222,\"#7201a8\"],[0.3333333333333333,\"#9c179e\"],[0.4444444444444444,\"#bd3786\"],[0.5555555555555556,\"#d8576b\"],[0.6666666666666666,\"#ed7953\"],[0.7777777777777778,\"#fb9f3a\"],[0.8888888888888888,\"#fdca26\"],[1.0,\"#f0f921\"]],\"sequentialminus\":[[0.0,\"#0d0887\"],[0.1111111111111111,\"#46039f\"],[0.2222222222222222,\"#7201a8\"],[0.3333333333333333,\"#9c179e\"],[0.4444444444444444,\"#bd3786\"],[0.5555555555555556,\"#d8576b\"],[0.6666666666666666,\"#ed7953\"],[0.7777777777777778,\"#fb9f3a\"],[0.8888888888888888,\"#fdca26\"],[1.0,\"#f0f921\"]],\"diverging\":[[0,\"#8e0152\"],[0.1,\"#c51b7d\"],[0.2,\"#de77ae\"],[0.3,\"#f1b6da\"],[0.4,\"#fde0ef\"],[0.5,\"#f7f7f7\"],[0.6,\"#e6f5d0\"],[0.7,\"#b8e186\"],[0.8,\"#7fbc41\"],[0.9,\"#4d9221\"],[1,\"#276419\"]]},\"xaxis\":{\"gridcolor\":\"white\",\"linecolor\":\"white\",\"ticks\":\"\",\"title\":{\"standoff\":15},\"zerolinecolor\":\"white\",\"automargin\":true,\"zerolinewidth\":2},\"yaxis\":{\"gridcolor\":\"white\",\"linecolor\":\"white\",\"ticks\":\"\",\"title\":{\"standoff\":15},\"zerolinecolor\":\"white\",\"automargin\":true,\"zerolinewidth\":2},\"scene\":{\"xaxis\":{\"backgroundcolor\":\"#E5ECF6\",\"gridcolor\":\"white\",\"linecolor\":\"white\",\"showbackground\":true,\"ticks\":\"\",\"zerolinecolor\":\"white\",\"gridwidth\":2},\"yaxis\":{\"backgroundcolor\":\"#E5ECF6\",\"gridcolor\":\"white\",\"linecolor\":\"white\",\"showbackground\":true,\"ticks\":\"\",\"zerolinecolor\":\"white\",\"gridwidth\":2},\"zaxis\":{\"backgroundcolor\":\"#E5ECF6\",\"gridcolor\":\"white\",\"linecolor\":\"white\",\"showbackground\":true,\"ticks\":\"\",\"zerolinecolor\":\"white\",\"gridwidth\":2}},\"shapedefaults\":{\"line\":{\"color\":\"#2a3f5f\"}},\"annotationdefaults\":{\"arrowcolor\":\"#2a3f5f\",\"arrowhead\":0,\"arrowwidth\":1},\"geo\":{\"bgcolor\":\"white\",\"landcolor\":\"#E5ECF6\",\"subunitcolor\":\"white\",\"showland\":true,\"showlakes\":true,\"lakecolor\":\"white\"},\"title\":{\"x\":0.05},\"mapbox\":{\"style\":\"light\"}}},\"coloraxis\":{\"colorbar\":{\"title\":{\"text\":\"Active Cases\"}},\"colorscale\":[[0.0,\"#440154\"],[0.1111111111111111,\"#482878\"],[0.2222222222222222,\"#3e4989\"],[0.3333333333333333,\"#31688e\"],[0.4444444444444444,\"#26828e\"],[0.5555555555555556,\"#1f9e89\"],[0.6666666666666666,\"#35b779\"],[0.7777777777777778,\"#6ece58\"],[0.8888888888888888,\"#b5de2b\"],[1.0,\"#fde725\"]]},\"legend\":{\"tracegroupgap\":0},\"title\":{\"text\":\"Top Countries with Highest Active Cases\"},\"height\":600,\"width\":800},                        {\"responsive\": true}                    ).then(function(){\n",
       "                            \n",
       "var gd = document.getElementById('ecdf6685-3949-4e76-8820-814e078879e8');\n",
       "var x = new MutationObserver(function (mutations, observer) {{\n",
       "        var display = window.getComputedStyle(gd).display;\n",
       "        if (!display || display === 'none') {{\n",
       "            console.log([gd, 'removed!']);\n",
       "            Plotly.purge(gd);\n",
       "            observer.disconnect();\n",
       "        }}\n",
       "}});\n",
       "\n",
       "// Listen for the removal of the full notebook cells\n",
       "var notebookContainer = gd.closest('#notebook-container');\n",
       "if (notebookContainer) {{\n",
       "    x.observe(notebookContainer, {childList: true});\n",
       "}}\n",
       "\n",
       "// Listen for the clearing of the current output cell\n",
       "var outputEl = gd.closest('.output');\n",
       "if (outputEl) {{\n",
       "    x.observe(outputEl, {childList: true});\n",
       "}}\n",
       "\n",
       "                        })                };                });            </script>        </div>"
      ]
     },
     "metadata": {},
     "output_type": "display_data"
    },
    {
     "data": {
      "text/plain": [
       "<Figure size 640x480 with 0 Axes>"
      ]
     },
     "metadata": {},
     "output_type": "display_data"
    }
   ],
   "source": [
    "active_cases_column = 'ActiveCases'\n",
    "df_sorted = df5.sort_values(by=active_cases_column, ascending=False)\n",
    "\n",
    "top_n = 20\n",
    "top_countries = df_sorted.head(top_n)\n",
    "\n",
    "fig = px.treemap(top_countries, path=['Country/Region'], values=active_cases_column, \n",
    "                 title='Top Countries with Highest Active Cases',\n",
    "                 color=active_cases_column,\n",
    "                 color_continuous_scale='viridis', \n",
    "                 hover_data=['TotalCases', 'TotalDeaths', 'TotalRecovered'],\n",
    "                 labels={active_cases_column: 'Active Cases'},\n",
    "                 width=800, height=600)\n",
    "\n",
    "plt.savefig('covid_active.png')\n",
    "\n",
    "\n",
    "fig.show()\n"
   ]
  },
  {
   "cell_type": "code",
   "execution_count": 44,
   "id": "cf5b2930",
   "metadata": {
    "ExecuteTime": {
     "start_time": "2024-04-02T17:17:55.090240Z"
    }
   },
   "outputs": [
    {
     "data": {
      "application/vnd.plotly.v1+json": {
       "config": {
        "plotlyServerURL": "https://plot.ly"
       },
       "data": [
        {
         "hovertemplate": "<b>%{hovertext}</b><br><br>Total Tests=%{marker.size}<br>Tests per 1M Population=%{marker.color}<br>Country/Region=%{text}<extra></extra>",
         "hovertext": [
          "USA",
          "Russia",
          "India",
          "UK",
          "Brazil",
          "Germany",
          "Italy",
          "Spain",
          "UAE",
          "Turkey"
         ],
         "legendgroup": "",
         "marker": {
          "color": [
           190640,
           203623,
           16035,
           257873,
           62085,
           102452,
           117443,
           151087,
           531470,
           60191
          ],
          "coloraxis": "coloraxis",
          "size": [
           63139605,
           29716907,
           22149351,
           17515234,
           13206188,
           8586648,
           7099713,
           7064329,
           5262658,
           5081802
          ],
          "sizemode": "area",
          "sizeref": 25255.842,
          "symbol": "circle"
         },
         "mode": "markers+text",
         "name": "",
         "orientation": "v",
         "showlegend": false,
         "text": [
          "USA",
          "Russia",
          "India",
          "UK",
          "Brazil",
          "Germany",
          "Italy",
          "Spain",
          "UAE",
          "Turkey"
         ],
         "type": "scatter",
         "x": [
          63139605,
          29716907,
          22149351,
          17515234,
          13206188,
          8586648,
          7099713,
          7064329,
          5262658,
          5081802
         ],
         "xaxis": "x",
         "y": [
          190640,
          203623,
          16035,
          257873,
          62085,
          102452,
          117443,
          151087,
          531470,
          60191
         ],
         "yaxis": "y"
        }
       ],
       "layout": {
        "coloraxis": {
         "colorbar": {
          "title": {
           "text": "Tests per 1M Population"
          }
         },
         "colorscale": [
          [
           0,
           "#0d0887"
          ],
          [
           0.1111111111111111,
           "#46039f"
          ],
          [
           0.2222222222222222,
           "#7201a8"
          ],
          [
           0.3333333333333333,
           "#9c179e"
          ],
          [
           0.4444444444444444,
           "#bd3786"
          ],
          [
           0.5555555555555556,
           "#d8576b"
          ],
          [
           0.6666666666666666,
           "#ed7953"
          ],
          [
           0.7777777777777778,
           "#fb9f3a"
          ],
          [
           0.8888888888888888,
           "#fdca26"
          ],
          [
           1,
           "#f0f921"
          ]
         ]
        },
        "height": 600,
        "legend": {
         "itemsizing": "constant",
         "tracegroupgap": 0
        },
        "template": {
         "data": {
          "bar": [
           {
            "error_x": {
             "color": "#2a3f5f"
            },
            "error_y": {
             "color": "#2a3f5f"
            },
            "marker": {
             "line": {
              "color": "#E5ECF6",
              "width": 0.5
             },
             "pattern": {
              "fillmode": "overlay",
              "size": 10,
              "solidity": 0.2
             }
            },
            "type": "bar"
           }
          ],
          "barpolar": [
           {
            "marker": {
             "line": {
              "color": "#E5ECF6",
              "width": 0.5
             },
             "pattern": {
              "fillmode": "overlay",
              "size": 10,
              "solidity": 0.2
             }
            },
            "type": "barpolar"
           }
          ],
          "carpet": [
           {
            "aaxis": {
             "endlinecolor": "#2a3f5f",
             "gridcolor": "white",
             "linecolor": "white",
             "minorgridcolor": "white",
             "startlinecolor": "#2a3f5f"
            },
            "baxis": {
             "endlinecolor": "#2a3f5f",
             "gridcolor": "white",
             "linecolor": "white",
             "minorgridcolor": "white",
             "startlinecolor": "#2a3f5f"
            },
            "type": "carpet"
           }
          ],
          "choropleth": [
           {
            "colorbar": {
             "outlinewidth": 0,
             "ticks": ""
            },
            "type": "choropleth"
           }
          ],
          "contour": [
           {
            "colorbar": {
             "outlinewidth": 0,
             "ticks": ""
            },
            "colorscale": [
             [
              0,
              "#0d0887"
             ],
             [
              0.1111111111111111,
              "#46039f"
             ],
             [
              0.2222222222222222,
              "#7201a8"
             ],
             [
              0.3333333333333333,
              "#9c179e"
             ],
             [
              0.4444444444444444,
              "#bd3786"
             ],
             [
              0.5555555555555556,
              "#d8576b"
             ],
             [
              0.6666666666666666,
              "#ed7953"
             ],
             [
              0.7777777777777778,
              "#fb9f3a"
             ],
             [
              0.8888888888888888,
              "#fdca26"
             ],
             [
              1,
              "#f0f921"
             ]
            ],
            "type": "contour"
           }
          ],
          "contourcarpet": [
           {
            "colorbar": {
             "outlinewidth": 0,
             "ticks": ""
            },
            "type": "contourcarpet"
           }
          ],
          "heatmap": [
           {
            "colorbar": {
             "outlinewidth": 0,
             "ticks": ""
            },
            "colorscale": [
             [
              0,
              "#0d0887"
             ],
             [
              0.1111111111111111,
              "#46039f"
             ],
             [
              0.2222222222222222,
              "#7201a8"
             ],
             [
              0.3333333333333333,
              "#9c179e"
             ],
             [
              0.4444444444444444,
              "#bd3786"
             ],
             [
              0.5555555555555556,
              "#d8576b"
             ],
             [
              0.6666666666666666,
              "#ed7953"
             ],
             [
              0.7777777777777778,
              "#fb9f3a"
             ],
             [
              0.8888888888888888,
              "#fdca26"
             ],
             [
              1,
              "#f0f921"
             ]
            ],
            "type": "heatmap"
           }
          ],
          "heatmapgl": [
           {
            "colorbar": {
             "outlinewidth": 0,
             "ticks": ""
            },
            "colorscale": [
             [
              0,
              "#0d0887"
             ],
             [
              0.1111111111111111,
              "#46039f"
             ],
             [
              0.2222222222222222,
              "#7201a8"
             ],
             [
              0.3333333333333333,
              "#9c179e"
             ],
             [
              0.4444444444444444,
              "#bd3786"
             ],
             [
              0.5555555555555556,
              "#d8576b"
             ],
             [
              0.6666666666666666,
              "#ed7953"
             ],
             [
              0.7777777777777778,
              "#fb9f3a"
             ],
             [
              0.8888888888888888,
              "#fdca26"
             ],
             [
              1,
              "#f0f921"
             ]
            ],
            "type": "heatmapgl"
           }
          ],
          "histogram": [
           {
            "marker": {
             "pattern": {
              "fillmode": "overlay",
              "size": 10,
              "solidity": 0.2
             }
            },
            "type": "histogram"
           }
          ],
          "histogram2d": [
           {
            "colorbar": {
             "outlinewidth": 0,
             "ticks": ""
            },
            "colorscale": [
             [
              0,
              "#0d0887"
             ],
             [
              0.1111111111111111,
              "#46039f"
             ],
             [
              0.2222222222222222,
              "#7201a8"
             ],
             [
              0.3333333333333333,
              "#9c179e"
             ],
             [
              0.4444444444444444,
              "#bd3786"
             ],
             [
              0.5555555555555556,
              "#d8576b"
             ],
             [
              0.6666666666666666,
              "#ed7953"
             ],
             [
              0.7777777777777778,
              "#fb9f3a"
             ],
             [
              0.8888888888888888,
              "#fdca26"
             ],
             [
              1,
              "#f0f921"
             ]
            ],
            "type": "histogram2d"
           }
          ],
          "histogram2dcontour": [
           {
            "colorbar": {
             "outlinewidth": 0,
             "ticks": ""
            },
            "colorscale": [
             [
              0,
              "#0d0887"
             ],
             [
              0.1111111111111111,
              "#46039f"
             ],
             [
              0.2222222222222222,
              "#7201a8"
             ],
             [
              0.3333333333333333,
              "#9c179e"
             ],
             [
              0.4444444444444444,
              "#bd3786"
             ],
             [
              0.5555555555555556,
              "#d8576b"
             ],
             [
              0.6666666666666666,
              "#ed7953"
             ],
             [
              0.7777777777777778,
              "#fb9f3a"
             ],
             [
              0.8888888888888888,
              "#fdca26"
             ],
             [
              1,
              "#f0f921"
             ]
            ],
            "type": "histogram2dcontour"
           }
          ],
          "mesh3d": [
           {
            "colorbar": {
             "outlinewidth": 0,
             "ticks": ""
            },
            "type": "mesh3d"
           }
          ],
          "parcoords": [
           {
            "line": {
             "colorbar": {
              "outlinewidth": 0,
              "ticks": ""
             }
            },
            "type": "parcoords"
           }
          ],
          "pie": [
           {
            "automargin": true,
            "type": "pie"
           }
          ],
          "scatter": [
           {
            "fillpattern": {
             "fillmode": "overlay",
             "size": 10,
             "solidity": 0.2
            },
            "type": "scatter"
           }
          ],
          "scatter3d": [
           {
            "line": {
             "colorbar": {
              "outlinewidth": 0,
              "ticks": ""
             }
            },
            "marker": {
             "colorbar": {
              "outlinewidth": 0,
              "ticks": ""
             }
            },
            "type": "scatter3d"
           }
          ],
          "scattercarpet": [
           {
            "marker": {
             "colorbar": {
              "outlinewidth": 0,
              "ticks": ""
             }
            },
            "type": "scattercarpet"
           }
          ],
          "scattergeo": [
           {
            "marker": {
             "colorbar": {
              "outlinewidth": 0,
              "ticks": ""
             }
            },
            "type": "scattergeo"
           }
          ],
          "scattergl": [
           {
            "marker": {
             "colorbar": {
              "outlinewidth": 0,
              "ticks": ""
             }
            },
            "type": "scattergl"
           }
          ],
          "scattermapbox": [
           {
            "marker": {
             "colorbar": {
              "outlinewidth": 0,
              "ticks": ""
             }
            },
            "type": "scattermapbox"
           }
          ],
          "scatterpolar": [
           {
            "marker": {
             "colorbar": {
              "outlinewidth": 0,
              "ticks": ""
             }
            },
            "type": "scatterpolar"
           }
          ],
          "scatterpolargl": [
           {
            "marker": {
             "colorbar": {
              "outlinewidth": 0,
              "ticks": ""
             }
            },
            "type": "scatterpolargl"
           }
          ],
          "scatterternary": [
           {
            "marker": {
             "colorbar": {
              "outlinewidth": 0,
              "ticks": ""
             }
            },
            "type": "scatterternary"
           }
          ],
          "surface": [
           {
            "colorbar": {
             "outlinewidth": 0,
             "ticks": ""
            },
            "colorscale": [
             [
              0,
              "#0d0887"
             ],
             [
              0.1111111111111111,
              "#46039f"
             ],
             [
              0.2222222222222222,
              "#7201a8"
             ],
             [
              0.3333333333333333,
              "#9c179e"
             ],
             [
              0.4444444444444444,
              "#bd3786"
             ],
             [
              0.5555555555555556,
              "#d8576b"
             ],
             [
              0.6666666666666666,
              "#ed7953"
             ],
             [
              0.7777777777777778,
              "#fb9f3a"
             ],
             [
              0.8888888888888888,
              "#fdca26"
             ],
             [
              1,
              "#f0f921"
             ]
            ],
            "type": "surface"
           }
          ],
          "table": [
           {
            "cells": {
             "fill": {
              "color": "#EBF0F8"
             },
             "line": {
              "color": "white"
             }
            },
            "header": {
             "fill": {
              "color": "#C8D4E3"
             },
             "line": {
              "color": "white"
             }
            },
            "type": "table"
           }
          ]
         },
         "layout": {
          "annotationdefaults": {
           "arrowcolor": "#2a3f5f",
           "arrowhead": 0,
           "arrowwidth": 1
          },
          "autotypenumbers": "strict",
          "coloraxis": {
           "colorbar": {
            "outlinewidth": 0,
            "ticks": ""
           }
          },
          "colorscale": {
           "diverging": [
            [
             0,
             "#8e0152"
            ],
            [
             0.1,
             "#c51b7d"
            ],
            [
             0.2,
             "#de77ae"
            ],
            [
             0.3,
             "#f1b6da"
            ],
            [
             0.4,
             "#fde0ef"
            ],
            [
             0.5,
             "#f7f7f7"
            ],
            [
             0.6,
             "#e6f5d0"
            ],
            [
             0.7,
             "#b8e186"
            ],
            [
             0.8,
             "#7fbc41"
            ],
            [
             0.9,
             "#4d9221"
            ],
            [
             1,
             "#276419"
            ]
           ],
           "sequential": [
            [
             0,
             "#0d0887"
            ],
            [
             0.1111111111111111,
             "#46039f"
            ],
            [
             0.2222222222222222,
             "#7201a8"
            ],
            [
             0.3333333333333333,
             "#9c179e"
            ],
            [
             0.4444444444444444,
             "#bd3786"
            ],
            [
             0.5555555555555556,
             "#d8576b"
            ],
            [
             0.6666666666666666,
             "#ed7953"
            ],
            [
             0.7777777777777778,
             "#fb9f3a"
            ],
            [
             0.8888888888888888,
             "#fdca26"
            ],
            [
             1,
             "#f0f921"
            ]
           ],
           "sequentialminus": [
            [
             0,
             "#0d0887"
            ],
            [
             0.1111111111111111,
             "#46039f"
            ],
            [
             0.2222222222222222,
             "#7201a8"
            ],
            [
             0.3333333333333333,
             "#9c179e"
            ],
            [
             0.4444444444444444,
             "#bd3786"
            ],
            [
             0.5555555555555556,
             "#d8576b"
            ],
            [
             0.6666666666666666,
             "#ed7953"
            ],
            [
             0.7777777777777778,
             "#fb9f3a"
            ],
            [
             0.8888888888888888,
             "#fdca26"
            ],
            [
             1,
             "#f0f921"
            ]
           ]
          },
          "colorway": [
           "#636efa",
           "#EF553B",
           "#00cc96",
           "#ab63fa",
           "#FFA15A",
           "#19d3f3",
           "#FF6692",
           "#B6E880",
           "#FF97FF",
           "#FECB52"
          ],
          "font": {
           "color": "#2a3f5f"
          },
          "geo": {
           "bgcolor": "white",
           "lakecolor": "white",
           "landcolor": "#E5ECF6",
           "showlakes": true,
           "showland": true,
           "subunitcolor": "white"
          },
          "hoverlabel": {
           "align": "left"
          },
          "hovermode": "closest",
          "mapbox": {
           "style": "light"
          },
          "paper_bgcolor": "white",
          "plot_bgcolor": "#E5ECF6",
          "polar": {
           "angularaxis": {
            "gridcolor": "white",
            "linecolor": "white",
            "ticks": ""
           },
           "bgcolor": "#E5ECF6",
           "radialaxis": {
            "gridcolor": "white",
            "linecolor": "white",
            "ticks": ""
           }
          },
          "scene": {
           "xaxis": {
            "backgroundcolor": "#E5ECF6",
            "gridcolor": "white",
            "gridwidth": 2,
            "linecolor": "white",
            "showbackground": true,
            "ticks": "",
            "zerolinecolor": "white"
           },
           "yaxis": {
            "backgroundcolor": "#E5ECF6",
            "gridcolor": "white",
            "gridwidth": 2,
            "linecolor": "white",
            "showbackground": true,
            "ticks": "",
            "zerolinecolor": "white"
           },
           "zaxis": {
            "backgroundcolor": "#E5ECF6",
            "gridcolor": "white",
            "gridwidth": 2,
            "linecolor": "white",
            "showbackground": true,
            "ticks": "",
            "zerolinecolor": "white"
           }
          },
          "shapedefaults": {
           "line": {
            "color": "#2a3f5f"
           }
          },
          "ternary": {
           "aaxis": {
            "gridcolor": "white",
            "linecolor": "white",
            "ticks": ""
           },
           "baxis": {
            "gridcolor": "white",
            "linecolor": "white",
            "ticks": ""
           },
           "bgcolor": "#E5ECF6",
           "caxis": {
            "gridcolor": "white",
            "linecolor": "white",
            "ticks": ""
           }
          },
          "title": {
           "x": 0.05
          },
          "xaxis": {
           "automargin": true,
           "gridcolor": "white",
           "linecolor": "white",
           "ticks": "",
           "title": {
            "standoff": 15
           },
           "zerolinecolor": "white",
           "zerolinewidth": 2
          },
          "yaxis": {
           "automargin": true,
           "gridcolor": "white",
           "linecolor": "white",
           "ticks": "",
           "title": {
            "standoff": 15
           },
           "zerolinecolor": "white",
           "zerolinewidth": 2
          }
         }
        },
        "title": {
         "text": "Top 10 Countries with the Highest Total Tests"
        },
        "width": 800,
        "xaxis": {
         "anchor": "y",
         "domain": [
          0,
          1
         ],
         "title": {
          "text": "Total Tests"
         }
        },
        "yaxis": {
         "anchor": "x",
         "domain": [
          0,
          1
         ],
         "title": {
          "text": "Tests per 1M Population"
         }
        }
       }
      },
      "text/html": [
       "<div>                            <div id=\"3c96be53-fa7f-436e-9f05-a0974143e378\" class=\"plotly-graph-div\" style=\"height:600px; width:800px;\"></div>            <script type=\"text/javascript\">                require([\"plotly\"], function(Plotly) {                    window.PLOTLYENV=window.PLOTLYENV || {};                                    if (document.getElementById(\"3c96be53-fa7f-436e-9f05-a0974143e378\")) {                    Plotly.newPlot(                        \"3c96be53-fa7f-436e-9f05-a0974143e378\",                        [{\"hovertemplate\":\"<b>%{hovertext}</b><br><br>Total Tests=%{marker.size}<br>Tests per 1M Population=%{marker.color}<br>Country/Region=%{text}<extra></extra>\",\"hovertext\":[\"USA\",\"Russia\",\"India\",\"UK\",\"Brazil\",\"Germany\",\"Italy\",\"Spain\",\"UAE\",\"Turkey\"],\"legendgroup\":\"\",\"marker\":{\"color\":[190640.0,203623.0,16035.0,257873.0,62085.0,102452.0,117443.0,151087.0,531470.0,60191.0],\"coloraxis\":\"coloraxis\",\"size\":[63139605.0,29716907.0,22149351.0,17515234.0,13206188.0,8586648.0,7099713.0,7064329.0,5262658.0,5081802.0],\"sizemode\":\"area\",\"sizeref\":25255.842,\"symbol\":\"circle\"},\"mode\":\"markers+text\",\"name\":\"\",\"orientation\":\"v\",\"showlegend\":false,\"text\":[\"USA\",\"Russia\",\"India\",\"UK\",\"Brazil\",\"Germany\",\"Italy\",\"Spain\",\"UAE\",\"Turkey\"],\"x\":[63139605.0,29716907.0,22149351.0,17515234.0,13206188.0,8586648.0,7099713.0,7064329.0,5262658.0,5081802.0],\"xaxis\":\"x\",\"y\":[190640.0,203623.0,16035.0,257873.0,62085.0,102452.0,117443.0,151087.0,531470.0,60191.0],\"yaxis\":\"y\",\"type\":\"scatter\"}],                        {\"template\":{\"data\":{\"histogram2dcontour\":[{\"type\":\"histogram2dcontour\",\"colorbar\":{\"outlinewidth\":0,\"ticks\":\"\"},\"colorscale\":[[0.0,\"#0d0887\"],[0.1111111111111111,\"#46039f\"],[0.2222222222222222,\"#7201a8\"],[0.3333333333333333,\"#9c179e\"],[0.4444444444444444,\"#bd3786\"],[0.5555555555555556,\"#d8576b\"],[0.6666666666666666,\"#ed7953\"],[0.7777777777777778,\"#fb9f3a\"],[0.8888888888888888,\"#fdca26\"],[1.0,\"#f0f921\"]]}],\"choropleth\":[{\"type\":\"choropleth\",\"colorbar\":{\"outlinewidth\":0,\"ticks\":\"\"}}],\"histogram2d\":[{\"type\":\"histogram2d\",\"colorbar\":{\"outlinewidth\":0,\"ticks\":\"\"},\"colorscale\":[[0.0,\"#0d0887\"],[0.1111111111111111,\"#46039f\"],[0.2222222222222222,\"#7201a8\"],[0.3333333333333333,\"#9c179e\"],[0.4444444444444444,\"#bd3786\"],[0.5555555555555556,\"#d8576b\"],[0.6666666666666666,\"#ed7953\"],[0.7777777777777778,\"#fb9f3a\"],[0.8888888888888888,\"#fdca26\"],[1.0,\"#f0f921\"]]}],\"heatmap\":[{\"type\":\"heatmap\",\"colorbar\":{\"outlinewidth\":0,\"ticks\":\"\"},\"colorscale\":[[0.0,\"#0d0887\"],[0.1111111111111111,\"#46039f\"],[0.2222222222222222,\"#7201a8\"],[0.3333333333333333,\"#9c179e\"],[0.4444444444444444,\"#bd3786\"],[0.5555555555555556,\"#d8576b\"],[0.6666666666666666,\"#ed7953\"],[0.7777777777777778,\"#fb9f3a\"],[0.8888888888888888,\"#fdca26\"],[1.0,\"#f0f921\"]]}],\"heatmapgl\":[{\"type\":\"heatmapgl\",\"colorbar\":{\"outlinewidth\":0,\"ticks\":\"\"},\"colorscale\":[[0.0,\"#0d0887\"],[0.1111111111111111,\"#46039f\"],[0.2222222222222222,\"#7201a8\"],[0.3333333333333333,\"#9c179e\"],[0.4444444444444444,\"#bd3786\"],[0.5555555555555556,\"#d8576b\"],[0.6666666666666666,\"#ed7953\"],[0.7777777777777778,\"#fb9f3a\"],[0.8888888888888888,\"#fdca26\"],[1.0,\"#f0f921\"]]}],\"contourcarpet\":[{\"type\":\"contourcarpet\",\"colorbar\":{\"outlinewidth\":0,\"ticks\":\"\"}}],\"contour\":[{\"type\":\"contour\",\"colorbar\":{\"outlinewidth\":0,\"ticks\":\"\"},\"colorscale\":[[0.0,\"#0d0887\"],[0.1111111111111111,\"#46039f\"],[0.2222222222222222,\"#7201a8\"],[0.3333333333333333,\"#9c179e\"],[0.4444444444444444,\"#bd3786\"],[0.5555555555555556,\"#d8576b\"],[0.6666666666666666,\"#ed7953\"],[0.7777777777777778,\"#fb9f3a\"],[0.8888888888888888,\"#fdca26\"],[1.0,\"#f0f921\"]]}],\"surface\":[{\"type\":\"surface\",\"colorbar\":{\"outlinewidth\":0,\"ticks\":\"\"},\"colorscale\":[[0.0,\"#0d0887\"],[0.1111111111111111,\"#46039f\"],[0.2222222222222222,\"#7201a8\"],[0.3333333333333333,\"#9c179e\"],[0.4444444444444444,\"#bd3786\"],[0.5555555555555556,\"#d8576b\"],[0.6666666666666666,\"#ed7953\"],[0.7777777777777778,\"#fb9f3a\"],[0.8888888888888888,\"#fdca26\"],[1.0,\"#f0f921\"]]}],\"mesh3d\":[{\"type\":\"mesh3d\",\"colorbar\":{\"outlinewidth\":0,\"ticks\":\"\"}}],\"scatter\":[{\"fillpattern\":{\"fillmode\":\"overlay\",\"size\":10,\"solidity\":0.2},\"type\":\"scatter\"}],\"parcoords\":[{\"type\":\"parcoords\",\"line\":{\"colorbar\":{\"outlinewidth\":0,\"ticks\":\"\"}}}],\"scatterpolargl\":[{\"type\":\"scatterpolargl\",\"marker\":{\"colorbar\":{\"outlinewidth\":0,\"ticks\":\"\"}}}],\"bar\":[{\"error_x\":{\"color\":\"#2a3f5f\"},\"error_y\":{\"color\":\"#2a3f5f\"},\"marker\":{\"line\":{\"color\":\"#E5ECF6\",\"width\":0.5},\"pattern\":{\"fillmode\":\"overlay\",\"size\":10,\"solidity\":0.2}},\"type\":\"bar\"}],\"scattergeo\":[{\"type\":\"scattergeo\",\"marker\":{\"colorbar\":{\"outlinewidth\":0,\"ticks\":\"\"}}}],\"scatterpolar\":[{\"type\":\"scatterpolar\",\"marker\":{\"colorbar\":{\"outlinewidth\":0,\"ticks\":\"\"}}}],\"histogram\":[{\"marker\":{\"pattern\":{\"fillmode\":\"overlay\",\"size\":10,\"solidity\":0.2}},\"type\":\"histogram\"}],\"scattergl\":[{\"type\":\"scattergl\",\"marker\":{\"colorbar\":{\"outlinewidth\":0,\"ticks\":\"\"}}}],\"scatter3d\":[{\"type\":\"scatter3d\",\"line\":{\"colorbar\":{\"outlinewidth\":0,\"ticks\":\"\"}},\"marker\":{\"colorbar\":{\"outlinewidth\":0,\"ticks\":\"\"}}}],\"scattermapbox\":[{\"type\":\"scattermapbox\",\"marker\":{\"colorbar\":{\"outlinewidth\":0,\"ticks\":\"\"}}}],\"scatterternary\":[{\"type\":\"scatterternary\",\"marker\":{\"colorbar\":{\"outlinewidth\":0,\"ticks\":\"\"}}}],\"scattercarpet\":[{\"type\":\"scattercarpet\",\"marker\":{\"colorbar\":{\"outlinewidth\":0,\"ticks\":\"\"}}}],\"carpet\":[{\"aaxis\":{\"endlinecolor\":\"#2a3f5f\",\"gridcolor\":\"white\",\"linecolor\":\"white\",\"minorgridcolor\":\"white\",\"startlinecolor\":\"#2a3f5f\"},\"baxis\":{\"endlinecolor\":\"#2a3f5f\",\"gridcolor\":\"white\",\"linecolor\":\"white\",\"minorgridcolor\":\"white\",\"startlinecolor\":\"#2a3f5f\"},\"type\":\"carpet\"}],\"table\":[{\"cells\":{\"fill\":{\"color\":\"#EBF0F8\"},\"line\":{\"color\":\"white\"}},\"header\":{\"fill\":{\"color\":\"#C8D4E3\"},\"line\":{\"color\":\"white\"}},\"type\":\"table\"}],\"barpolar\":[{\"marker\":{\"line\":{\"color\":\"#E5ECF6\",\"width\":0.5},\"pattern\":{\"fillmode\":\"overlay\",\"size\":10,\"solidity\":0.2}},\"type\":\"barpolar\"}],\"pie\":[{\"automargin\":true,\"type\":\"pie\"}]},\"layout\":{\"autotypenumbers\":\"strict\",\"colorway\":[\"#636efa\",\"#EF553B\",\"#00cc96\",\"#ab63fa\",\"#FFA15A\",\"#19d3f3\",\"#FF6692\",\"#B6E880\",\"#FF97FF\",\"#FECB52\"],\"font\":{\"color\":\"#2a3f5f\"},\"hovermode\":\"closest\",\"hoverlabel\":{\"align\":\"left\"},\"paper_bgcolor\":\"white\",\"plot_bgcolor\":\"#E5ECF6\",\"polar\":{\"bgcolor\":\"#E5ECF6\",\"angularaxis\":{\"gridcolor\":\"white\",\"linecolor\":\"white\",\"ticks\":\"\"},\"radialaxis\":{\"gridcolor\":\"white\",\"linecolor\":\"white\",\"ticks\":\"\"}},\"ternary\":{\"bgcolor\":\"#E5ECF6\",\"aaxis\":{\"gridcolor\":\"white\",\"linecolor\":\"white\",\"ticks\":\"\"},\"baxis\":{\"gridcolor\":\"white\",\"linecolor\":\"white\",\"ticks\":\"\"},\"caxis\":{\"gridcolor\":\"white\",\"linecolor\":\"white\",\"ticks\":\"\"}},\"coloraxis\":{\"colorbar\":{\"outlinewidth\":0,\"ticks\":\"\"}},\"colorscale\":{\"sequential\":[[0.0,\"#0d0887\"],[0.1111111111111111,\"#46039f\"],[0.2222222222222222,\"#7201a8\"],[0.3333333333333333,\"#9c179e\"],[0.4444444444444444,\"#bd3786\"],[0.5555555555555556,\"#d8576b\"],[0.6666666666666666,\"#ed7953\"],[0.7777777777777778,\"#fb9f3a\"],[0.8888888888888888,\"#fdca26\"],[1.0,\"#f0f921\"]],\"sequentialminus\":[[0.0,\"#0d0887\"],[0.1111111111111111,\"#46039f\"],[0.2222222222222222,\"#7201a8\"],[0.3333333333333333,\"#9c179e\"],[0.4444444444444444,\"#bd3786\"],[0.5555555555555556,\"#d8576b\"],[0.6666666666666666,\"#ed7953\"],[0.7777777777777778,\"#fb9f3a\"],[0.8888888888888888,\"#fdca26\"],[1.0,\"#f0f921\"]],\"diverging\":[[0,\"#8e0152\"],[0.1,\"#c51b7d\"],[0.2,\"#de77ae\"],[0.3,\"#f1b6da\"],[0.4,\"#fde0ef\"],[0.5,\"#f7f7f7\"],[0.6,\"#e6f5d0\"],[0.7,\"#b8e186\"],[0.8,\"#7fbc41\"],[0.9,\"#4d9221\"],[1,\"#276419\"]]},\"xaxis\":{\"gridcolor\":\"white\",\"linecolor\":\"white\",\"ticks\":\"\",\"title\":{\"standoff\":15},\"zerolinecolor\":\"white\",\"automargin\":true,\"zerolinewidth\":2},\"yaxis\":{\"gridcolor\":\"white\",\"linecolor\":\"white\",\"ticks\":\"\",\"title\":{\"standoff\":15},\"zerolinecolor\":\"white\",\"automargin\":true,\"zerolinewidth\":2},\"scene\":{\"xaxis\":{\"backgroundcolor\":\"#E5ECF6\",\"gridcolor\":\"white\",\"linecolor\":\"white\",\"showbackground\":true,\"ticks\":\"\",\"zerolinecolor\":\"white\",\"gridwidth\":2},\"yaxis\":{\"backgroundcolor\":\"#E5ECF6\",\"gridcolor\":\"white\",\"linecolor\":\"white\",\"showbackground\":true,\"ticks\":\"\",\"zerolinecolor\":\"white\",\"gridwidth\":2},\"zaxis\":{\"backgroundcolor\":\"#E5ECF6\",\"gridcolor\":\"white\",\"linecolor\":\"white\",\"showbackground\":true,\"ticks\":\"\",\"zerolinecolor\":\"white\",\"gridwidth\":2}},\"shapedefaults\":{\"line\":{\"color\":\"#2a3f5f\"}},\"annotationdefaults\":{\"arrowcolor\":\"#2a3f5f\",\"arrowhead\":0,\"arrowwidth\":1},\"geo\":{\"bgcolor\":\"white\",\"landcolor\":\"#E5ECF6\",\"subunitcolor\":\"white\",\"showland\":true,\"showlakes\":true,\"lakecolor\":\"white\"},\"title\":{\"x\":0.05},\"mapbox\":{\"style\":\"light\"}}},\"xaxis\":{\"anchor\":\"y\",\"domain\":[0.0,1.0],\"title\":{\"text\":\"Total Tests\"}},\"yaxis\":{\"anchor\":\"x\",\"domain\":[0.0,1.0],\"title\":{\"text\":\"Tests per 1M Population\"}},\"coloraxis\":{\"colorbar\":{\"title\":{\"text\":\"Tests per 1M Population\"}},\"colorscale\":[[0.0,\"#0d0887\"],[0.1111111111111111,\"#46039f\"],[0.2222222222222222,\"#7201a8\"],[0.3333333333333333,\"#9c179e\"],[0.4444444444444444,\"#bd3786\"],[0.5555555555555556,\"#d8576b\"],[0.6666666666666666,\"#ed7953\"],[0.7777777777777778,\"#fb9f3a\"],[0.8888888888888888,\"#fdca26\"],[1.0,\"#f0f921\"]]},\"legend\":{\"tracegroupgap\":0,\"itemsizing\":\"constant\"},\"title\":{\"text\":\"Top 10 Countries with the Highest Total Tests\"},\"height\":600,\"width\":800},                        {\"responsive\": true}                    ).then(function(){\n",
       "                            \n",
       "var gd = document.getElementById('3c96be53-fa7f-436e-9f05-a0974143e378');\n",
       "var x = new MutationObserver(function (mutations, observer) {{\n",
       "        var display = window.getComputedStyle(gd).display;\n",
       "        if (!display || display === 'none') {{\n",
       "            console.log([gd, 'removed!']);\n",
       "            Plotly.purge(gd);\n",
       "            observer.disconnect();\n",
       "        }}\n",
       "}});\n",
       "\n",
       "// Listen for the removal of the full notebook cells\n",
       "var notebookContainer = gd.closest('#notebook-container');\n",
       "if (notebookContainer) {{\n",
       "    x.observe(notebookContainer, {childList: true});\n",
       "}}\n",
       "\n",
       "// Listen for the clearing of the current output cell\n",
       "var outputEl = gd.closest('.output');\n",
       "if (outputEl) {{\n",
       "    x.observe(outputEl, {childList: true});\n",
       "}}\n",
       "\n",
       "                        })                };                });            </script>        </div>"
      ]
     },
     "metadata": {},
     "output_type": "display_data"
    },
    {
     "data": {
      "text/plain": [
       "<Figure size 640x480 with 0 Axes>"
      ]
     },
     "metadata": {},
     "output_type": "display_data"
    }
   ],
   "source": [
    "top_10_countries = data.nlargest(10, 'TotalTests')\n",
    "\n",
    "fig = px.scatter(top_10_countries, x='TotalTests', y='Tests/1M pop',\n",
    "                 size='TotalTests', color='Tests/1M pop',\n",
    "                 hover_name='Country/Region', text='Country/Region', \n",
    "                 size_max=50,\n",
    "                 labels={'TotalTests': 'Total Tests', 'Tests/1M pop': 'Tests per 1M Population'},\n",
    "                 title='Top 10 Countries with the Highest Total Tests',\n",
    "                 width=800, height=600)\n",
    "plt.savefig('covid_test.png')\n",
    "fig.show()\n"
   ]
  },
  {
   "cell_type": "code",
   "execution_count": null,
   "id": "00ebb794",
   "metadata": {
    "ExecuteTime": {
     "start_time": "2024-04-02T17:17:55.091248Z"
    }
   },
   "outputs": [],
   "source": []
  }
 ],
 "metadata": {
  "kernelspec": {
   "display_name": "Python 3 (ipykernel)",
   "language": "python",
   "name": "python3"
  },
  "language_info": {
   "codemirror_mode": {
    "name": "ipython",
    "version": 3
   },
   "file_extension": ".py",
   "mimetype": "text/x-python",
   "name": "python",
   "nbconvert_exporter": "python",
   "pygments_lexer": "ipython3",
   "version": "3.12.1"
  }
 },
 "nbformat": 4,
 "nbformat_minor": 5
}
